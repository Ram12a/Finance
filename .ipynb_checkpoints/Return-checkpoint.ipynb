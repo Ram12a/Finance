{
 "cells": [
  {
   "cell_type": "code",
   "execution_count": 38,
   "metadata": {},
   "outputs": [],
   "source": [
    "import yfinance as yf\n",
    "import matplotlib.pyplot as plt\n",
    "import numpy as np"
   ]
  },
  {
   "cell_type": "code",
   "execution_count": 12,
   "metadata": {},
   "outputs": [],
   "source": [
    "msft = yf.Ticker(\"MSFT\")\n",
    "hist = msft.history(period=\"max\")"
   ]
  },
  {
   "cell_type": "code",
   "execution_count": 14,
   "metadata": {},
   "outputs": [
    {
     "data": {
      "text/html": [
       "<div>\n",
       "<style scoped>\n",
       "    .dataframe tbody tr th:only-of-type {\n",
       "        vertical-align: middle;\n",
       "    }\n",
       "\n",
       "    .dataframe tbody tr th {\n",
       "        vertical-align: top;\n",
       "    }\n",
       "\n",
       "    .dataframe thead th {\n",
       "        text-align: right;\n",
       "    }\n",
       "</style>\n",
       "<table border=\"1\" class=\"dataframe\">\n",
       "  <thead>\n",
       "    <tr style=\"text-align: right;\">\n",
       "      <th></th>\n",
       "      <th>Open</th>\n",
       "      <th>High</th>\n",
       "      <th>Low</th>\n",
       "      <th>Close</th>\n",
       "      <th>Volume</th>\n",
       "      <th>Dividends</th>\n",
       "      <th>Stock Splits</th>\n",
       "    </tr>\n",
       "    <tr>\n",
       "      <th>Date</th>\n",
       "      <th></th>\n",
       "      <th></th>\n",
       "      <th></th>\n",
       "      <th></th>\n",
       "      <th></th>\n",
       "      <th></th>\n",
       "      <th></th>\n",
       "    </tr>\n",
       "  </thead>\n",
       "  <tbody>\n",
       "    <tr>\n",
       "      <th>1986-03-13</th>\n",
       "      <td>0.057158</td>\n",
       "      <td>0.065563</td>\n",
       "      <td>0.057158</td>\n",
       "      <td>0.062761</td>\n",
       "      <td>1031788800</td>\n",
       "      <td>0.0</td>\n",
       "      <td>0.0</td>\n",
       "    </tr>\n",
       "    <tr>\n",
       "      <th>1986-03-14</th>\n",
       "      <td>0.062761</td>\n",
       "      <td>0.066124</td>\n",
       "      <td>0.062761</td>\n",
       "      <td>0.065003</td>\n",
       "      <td>308160000</td>\n",
       "      <td>0.0</td>\n",
       "      <td>0.0</td>\n",
       "    </tr>\n",
       "    <tr>\n",
       "      <th>1986-03-17</th>\n",
       "      <td>0.065003</td>\n",
       "      <td>0.066684</td>\n",
       "      <td>0.065003</td>\n",
       "      <td>0.066124</td>\n",
       "      <td>133171200</td>\n",
       "      <td>0.0</td>\n",
       "      <td>0.0</td>\n",
       "    </tr>\n",
       "    <tr>\n",
       "      <th>1986-03-18</th>\n",
       "      <td>0.066124</td>\n",
       "      <td>0.066684</td>\n",
       "      <td>0.063882</td>\n",
       "      <td>0.064443</td>\n",
       "      <td>67766400</td>\n",
       "      <td>0.0</td>\n",
       "      <td>0.0</td>\n",
       "    </tr>\n",
       "    <tr>\n",
       "      <th>1986-03-19</th>\n",
       "      <td>0.064443</td>\n",
       "      <td>0.065003</td>\n",
       "      <td>0.062762</td>\n",
       "      <td>0.063322</td>\n",
       "      <td>47894400</td>\n",
       "      <td>0.0</td>\n",
       "      <td>0.0</td>\n",
       "    </tr>\n",
       "  </tbody>\n",
       "</table>\n",
       "</div>"
      ],
      "text/plain": [
       "                Open      High       Low     Close      Volume  Dividends  \\\n",
       "Date                                                                        \n",
       "1986-03-13  0.057158  0.065563  0.057158  0.062761  1031788800        0.0   \n",
       "1986-03-14  0.062761  0.066124  0.062761  0.065003   308160000        0.0   \n",
       "1986-03-17  0.065003  0.066684  0.065003  0.066124   133171200        0.0   \n",
       "1986-03-18  0.066124  0.066684  0.063882  0.064443    67766400        0.0   \n",
       "1986-03-19  0.064443  0.065003  0.062762  0.063322    47894400        0.0   \n",
       "\n",
       "            Stock Splits  \n",
       "Date                      \n",
       "1986-03-13           0.0  \n",
       "1986-03-14           0.0  \n",
       "1986-03-17           0.0  \n",
       "1986-03-18           0.0  \n",
       "1986-03-19           0.0  "
      ]
     },
     "execution_count": 14,
     "metadata": {},
     "output_type": "execute_result"
    }
   ],
   "source": [
    "hist.head()"
   ]
  },
  {
   "cell_type": "code",
   "execution_count": 13,
   "metadata": {},
   "outputs": [
    {
     "data": {
      "text/plain": [
       "[<matplotlib.lines.Line2D at 0x7f9e27e96ac8>]"
      ]
     },
     "execution_count": 13,
     "metadata": {},
     "output_type": "execute_result"
    },
    {
     "data": {
      "image/png": "[encoded data removed]",
      "text/plain": [
       "<Figure size 432x288 with 1 Axes>"
      ]
     },
     "metadata": {
      "needs_background": "light"
     },
     "output_type": "display_data"
    }
   ],
   "source": [
    "plt.plot(hist['Close'])"
   ]
  },
  {
   "cell_type": "code",
   "execution_count": 23,
   "metadata": {},
   "outputs": [
    {
     "data": {
      "text/plain": [
       "<matplotlib.axes._subplots.AxesSubplot at 0x7f9e1a8b6208>"
      ]
     },
     "execution_count": 23,
     "metadata": {},
     "output_type": "execute_result"
    },
    {
     "data": {
      "image/png": "[encoded data removed]",
      "text/plain": [
       "<Figure size 432x288 with 1 Axes>"
      ]
     },
     "metadata": {
      "needs_background": "light"
     },
     "output_type": "display_data"
    }
   ],
   "source": [
    "def ReturnPrice(df,Tipo='Close'):\n",
    "    #dfret = df/df.shift(1)-1\n",
    "    dfret = df.pct_change()\n",
    "    return dfret\n",
    "\n",
    "ReturnPrice(hist)['Close'].iloc[1:30].plot.bar()"
   ]
  },
  {
   "cell_type": "code",
   "execution_count": 24,
   "metadata": {},
   "outputs": [],
   "source": [
    "returns = ReturnPrice(hist)"
   ]
  },
  {
   "cell_type": "code",
   "execution_count": 28,
   "metadata": {},
   "outputs": [
    {
     "data": {
      "text/html": [
       "<div>\n",
       "<style scoped>\n",
       "    .dataframe tbody tr th:only-of-type {\n",
       "        vertical-align: middle;\n",
       "    }\n",
       "\n",
       "    .dataframe tbody tr th {\n",
       "        vertical-align: top;\n",
       "    }\n",
       "\n",
       "    .dataframe thead th {\n",
       "        text-align: right;\n",
       "    }\n",
       "</style>\n",
       "<table border=\"1\" class=\"dataframe\">\n",
       "  <thead>\n",
       "    <tr style=\"text-align: right;\">\n",
       "      <th></th>\n",
       "      <th>Open</th>\n",
       "      <th>High</th>\n",
       "      <th>Low</th>\n",
       "      <th>Close</th>\n",
       "      <th>Volume</th>\n",
       "      <th>Dividends</th>\n",
       "      <th>Stock Splits</th>\n",
       "    </tr>\n",
       "    <tr>\n",
       "      <th>Date</th>\n",
       "      <th></th>\n",
       "      <th></th>\n",
       "      <th></th>\n",
       "      <th></th>\n",
       "      <th></th>\n",
       "      <th></th>\n",
       "      <th></th>\n",
       "    </tr>\n",
       "  </thead>\n",
       "  <tbody>\n",
       "    <tr>\n",
       "      <th>1986-03-13</th>\n",
       "      <td>NaN</td>\n",
       "      <td>NaN</td>\n",
       "      <td>NaN</td>\n",
       "      <td>NaN</td>\n",
       "      <td>NaN</td>\n",
       "      <td>NaN</td>\n",
       "      <td>NaN</td>\n",
       "    </tr>\n",
       "    <tr>\n",
       "      <th>1986-03-14</th>\n",
       "      <td>9.803969e-02</td>\n",
       "      <td>8.547365e-03</td>\n",
       "      <td>9.803969e-02</td>\n",
       "      <td>0.035715</td>\n",
       "      <td>-0.701334</td>\n",
       "      <td>NaN</td>\n",
       "      <td>NaN</td>\n",
       "    </tr>\n",
       "    <tr>\n",
       "      <th>1986-03-17</th>\n",
       "      <td>3.571433e-02</td>\n",
       "      <td>8.474647e-03</td>\n",
       "      <td>3.571433e-02</td>\n",
       "      <td>0.017241</td>\n",
       "      <td>-0.567850</td>\n",
       "      <td>NaN</td>\n",
       "      <td>NaN</td>\n",
       "    </tr>\n",
       "    <tr>\n",
       "      <th>1986-03-18</th>\n",
       "      <td>1.724105e-02</td>\n",
       "      <td>-2.601656e-07</td>\n",
       "      <td>-1.724164e-02</td>\n",
       "      <td>-0.025424</td>\n",
       "      <td>-0.491133</td>\n",
       "      <td>NaN</td>\n",
       "      <td>NaN</td>\n",
       "    </tr>\n",
       "    <tr>\n",
       "      <th>1986-03-19</th>\n",
       "      <td>-2.542321e-02</td>\n",
       "      <td>-2.520956e-02</td>\n",
       "      <td>-1.754337e-02</td>\n",
       "      <td>-0.017391</td>\n",
       "      <td>-0.293243</td>\n",
       "      <td>NaN</td>\n",
       "      <td>NaN</td>\n",
       "    </tr>\n",
       "    <tr>\n",
       "      <th>1986-03-20</th>\n",
       "      <td>-1.739145e-02</td>\n",
       "      <td>-2.586226e-02</td>\n",
       "      <td>-2.678591e-02</td>\n",
       "      <td>-0.026549</td>\n",
       "      <td>0.220084</td>\n",
       "      <td>NaN</td>\n",
       "      <td>NaN</td>\n",
       "    </tr>\n",
       "    <tr>\n",
       "      <th>1986-03-21</th>\n",
       "      <td>-2.654880e-02</td>\n",
       "      <td>-8.849675e-03</td>\n",
       "      <td>-3.669733e-02</td>\n",
       "      <td>-0.027273</td>\n",
       "      <td>0.026614</td>\n",
       "      <td>NaN</td>\n",
       "      <td>NaN</td>\n",
       "    </tr>\n",
       "    <tr>\n",
       "      <th>1986-03-24</th>\n",
       "      <td>-2.727272e-02</td>\n",
       "      <td>-4.464285e-02</td>\n",
       "      <td>-1.904764e-02</td>\n",
       "      <td>-0.028037</td>\n",
       "      <td>0.088334</td>\n",
       "      <td>NaN</td>\n",
       "      <td>NaN</td>\n",
       "    </tr>\n",
       "    <tr>\n",
       "      <th>1986-03-25</th>\n",
       "      <td>-2.803785e-02</td>\n",
       "      <td>-9.346258e-03</td>\n",
       "      <td>-4.230280e-07</td>\n",
       "      <td>0.019230</td>\n",
       "      <td>-0.508602</td>\n",
       "      <td>NaN</td>\n",
       "      <td>NaN</td>\n",
       "    </tr>\n",
       "    <tr>\n",
       "      <th>1986-03-26</th>\n",
       "      <td>1.923101e-02</td>\n",
       "      <td>3.773610e-02</td>\n",
       "      <td>1.941772e-02</td>\n",
       "      <td>0.028302</td>\n",
       "      <td>-0.290844</td>\n",
       "      <td>NaN</td>\n",
       "      <td>NaN</td>\n",
       "    </tr>\n",
       "    <tr>\n",
       "      <th>1986-03-27</th>\n",
       "      <td>2.830225e-02</td>\n",
       "      <td>9.091256e-03</td>\n",
       "      <td>3.809557e-02</td>\n",
       "      <td>0.018349</td>\n",
       "      <td>-0.259494</td>\n",
       "      <td>NaN</td>\n",
       "      <td>NaN</td>\n",
       "    </tr>\n",
       "    <tr>\n",
       "      <th>1986-03-31</th>\n",
       "      <td>1.834862e-02</td>\n",
       "      <td>-1.484405e-08</td>\n",
       "      <td>-9.174292e-03</td>\n",
       "      <td>-0.009009</td>\n",
       "      <td>-0.235897</td>\n",
       "      <td>NaN</td>\n",
       "      <td>NaN</td>\n",
       "    </tr>\n",
       "    <tr>\n",
       "      <th>1986-04-01</th>\n",
       "      <td>-9.009335e-03</td>\n",
       "      <td>-9.009335e-03</td>\n",
       "      <td>9.258857e-03</td>\n",
       "      <td>-0.009091</td>\n",
       "      <td>-0.138702</td>\n",
       "      <td>NaN</td>\n",
       "      <td>NaN</td>\n",
       "    </tr>\n",
       "    <tr>\n",
       "      <th>1986-04-02</th>\n",
       "      <td>-9.090592e-03</td>\n",
       "      <td>1.818220e-02</td>\n",
       "      <td>3.633025e-07</td>\n",
       "      <td>0.009175</td>\n",
       "      <td>1.436364</td>\n",
       "      <td>NaN</td>\n",
       "      <td>NaN</td>\n",
       "    </tr>\n",
       "    <tr>\n",
       "      <th>1986-04-03</th>\n",
       "      <td>1.834865e-02</td>\n",
       "      <td>1.785717e-02</td>\n",
       "      <td>1.834865e-02</td>\n",
       "      <td>0.009091</td>\n",
       "      <td>-0.147122</td>\n",
       "      <td>NaN</td>\n",
       "      <td>NaN</td>\n",
       "    </tr>\n",
       "    <tr>\n",
       "      <th>1986-04-04</th>\n",
       "      <td>0.000000e+00</td>\n",
       "      <td>-1.754387e-02</td>\n",
       "      <td>0.000000e+00</td>\n",
       "      <td>0.000000</td>\n",
       "      <td>0.153750</td>\n",
       "      <td>NaN</td>\n",
       "      <td>NaN</td>\n",
       "    </tr>\n",
       "    <tr>\n",
       "      <th>1986-04-07</th>\n",
       "      <td>-3.781464e-07</td>\n",
       "      <td>-3.781464e-07</td>\n",
       "      <td>-3.603634e-02</td>\n",
       "      <td>-0.018018</td>\n",
       "      <td>-0.377031</td>\n",
       "      <td>NaN</td>\n",
       "      <td>NaN</td>\n",
       "    </tr>\n",
       "    <tr>\n",
       "      <th>1986-04-08</th>\n",
       "      <td>-1.801767e-02</td>\n",
       "      <td>3.633025e-07</td>\n",
       "      <td>1.869189e-02</td>\n",
       "      <td>0.009175</td>\n",
       "      <td>-0.380870</td>\n",
       "      <td>NaN</td>\n",
       "      <td>NaN</td>\n",
       "    </tr>\n",
       "    <tr>\n",
       "      <th>1986-04-09</th>\n",
       "      <td>9.173829e-03</td>\n",
       "      <td>8.928010e-03</td>\n",
       "      <td>9.173829e-03</td>\n",
       "      <td>0.018181</td>\n",
       "      <td>0.185393</td>\n",
       "      <td>NaN</td>\n",
       "      <td>NaN</td>\n",
       "    </tr>\n",
       "    <tr>\n",
       "      <th>1986-04-10</th>\n",
       "      <td>1.818251e-02</td>\n",
       "      <td>8.850272e-03</td>\n",
       "      <td>6.663429e-07</td>\n",
       "      <td>0.008929</td>\n",
       "      <td>0.142180</td>\n",
       "      <td>NaN</td>\n",
       "      <td>NaN</td>\n",
       "    </tr>\n",
       "    <tr>\n",
       "      <th>1986-04-11</th>\n",
       "      <td>1.785663e-02</td>\n",
       "      <td>2.631524e-02</td>\n",
       "      <td>3.636312e-02</td>\n",
       "      <td>0.017699</td>\n",
       "      <td>0.240664</td>\n",
       "      <td>NaN</td>\n",
       "      <td>NaN</td>\n",
       "    </tr>\n",
       "    <tr>\n",
       "      <th>1986-04-14</th>\n",
       "      <td>8.772128e-03</td>\n",
       "      <td>2.299209e-07</td>\n",
       "      <td>8.772128e-03</td>\n",
       "      <td>0.008696</td>\n",
       "      <td>-0.294314</td>\n",
       "      <td>NaN</td>\n",
       "      <td>NaN</td>\n",
       "    </tr>\n",
       "    <tr>\n",
       "      <th>1986-04-15</th>\n",
       "      <td>8.695694e-03</td>\n",
       "      <td>-8.546976e-03</td>\n",
       "      <td>-2.608693e-02</td>\n",
       "      <td>0.000000</td>\n",
       "      <td>-0.234597</td>\n",
       "      <td>NaN</td>\n",
       "      <td>NaN</td>\n",
       "    </tr>\n",
       "    <tr>\n",
       "      <th>1986-04-16</th>\n",
       "      <td>9.875417e-08</td>\n",
       "      <td>4.310353e-02</td>\n",
       "      <td>2.678579e-02</td>\n",
       "      <td>0.034483</td>\n",
       "      <td>2.430341</td>\n",
       "      <td>NaN</td>\n",
       "      <td>NaN</td>\n",
       "    </tr>\n",
       "    <tr>\n",
       "      <th>1986-04-17</th>\n",
       "      <td>3.448304e-02</td>\n",
       "      <td>3.275864e-07</td>\n",
       "      <td>4.347859e-02</td>\n",
       "      <td>0.008334</td>\n",
       "      <td>-0.310469</td>\n",
       "      <td>NaN</td>\n",
       "      <td>NaN</td>\n",
       "    </tr>\n",
       "    <tr>\n",
       "      <th>1986-04-18</th>\n",
       "      <td>8.332901e-03</td>\n",
       "      <td>-4.679085e-07</td>\n",
       "      <td>-3.333373e-02</td>\n",
       "      <td>-0.033058</td>\n",
       "      <td>-0.017016</td>\n",
       "      <td>NaN</td>\n",
       "      <td>NaN</td>\n",
       "    </tr>\n",
       "    <tr>\n",
       "      <th>1986-04-21</th>\n",
       "      <td>-3.305787e-02</td>\n",
       "      <td>-2.479344e-02</td>\n",
       "      <td>-1.724139e-02</td>\n",
       "      <td>0.000000</td>\n",
       "      <td>0.059920</td>\n",
       "      <td>NaN</td>\n",
       "      <td>NaN</td>\n",
       "    </tr>\n",
       "    <tr>\n",
       "      <th>1986-04-22</th>\n",
       "      <td>-1.883528e-07</td>\n",
       "      <td>-8.474731e-03</td>\n",
       "      <td>8.771706e-03</td>\n",
       "      <td>-0.017094</td>\n",
       "      <td>-0.321608</td>\n",
       "      <td>NaN</td>\n",
       "      <td>NaN</td>\n",
       "    </tr>\n",
       "    <tr>\n",
       "      <th>1986-04-23</th>\n",
       "      <td>-1.709376e-02</td>\n",
       "      <td>-8.546711e-03</td>\n",
       "      <td>-8.695354e-03</td>\n",
       "      <td>0.004348</td>\n",
       "      <td>0.003704</td>\n",
       "      <td>NaN</td>\n",
       "      <td>NaN</td>\n",
       "    </tr>\n",
       "    <tr>\n",
       "      <th>1986-04-24</th>\n",
       "      <td>4.347918e-03</td>\n",
       "      <td>1.120690e-01</td>\n",
       "      <td>8.772005e-03</td>\n",
       "      <td>0.099567</td>\n",
       "      <td>2.994465</td>\n",
       "      <td>NaN</td>\n",
       "      <td>NaN</td>\n",
       "    </tr>\n",
       "    <tr>\n",
       "      <th>...</th>\n",
       "      <td>...</td>\n",
       "      <td>...</td>\n",
       "      <td>...</td>\n",
       "      <td>...</td>\n",
       "      <td>...</td>\n",
       "      <td>...</td>\n",
       "      <td>...</td>\n",
       "    </tr>\n",
       "    <tr>\n",
       "      <th>2019-08-26</th>\n",
       "      <td>-1.603613e-02</td>\n",
       "      <td>-2.016631e-02</td>\n",
       "      <td>8.283063e-03</td>\n",
       "      <td>0.015443</td>\n",
       "      <td>-0.472518</td>\n",
       "      <td>NaN</td>\n",
       "      <td>NaN</td>\n",
       "    </tr>\n",
       "    <tr>\n",
       "      <th>2019-08-27</th>\n",
       "      <td>1.037109e-02</td>\n",
       "      <td>8.557124e-03</td>\n",
       "      <td>5.675951e-03</td>\n",
       "      <td>0.002141</td>\n",
       "      <td>0.137329</td>\n",
       "      <td>NaN</td>\n",
       "      <td>NaN</td>\n",
       "    </tr>\n",
       "    <tr>\n",
       "      <th>2019-08-28</th>\n",
       "      <td>-1.107115e-02</td>\n",
       "      <td>-7.021699e-03</td>\n",
       "      <td>-8.242987e-03</td>\n",
       "      <td>-0.001326</td>\n",
       "      <td>-0.247112</td>\n",
       "      <td>NaN</td>\n",
       "      <td>NaN</td>\n",
       "    </tr>\n",
       "    <tr>\n",
       "      <th>2019-08-29</th>\n",
       "      <td>1.757114e-02</td>\n",
       "      <td>1.974078e-02</td>\n",
       "      <td>2.515912e-02</td>\n",
       "      <td>0.018885</td>\n",
       "      <td>0.159567</td>\n",
       "      <td>NaN</td>\n",
       "      <td>NaN</td>\n",
       "    </tr>\n",
       "    <tr>\n",
       "      <th>2019-08-30</th>\n",
       "      <td>1.384331e-02</td>\n",
       "      <td>5.345205e-03</td>\n",
       "      <td>-4.674599e-03</td>\n",
       "      <td>-0.001882</td>\n",
       "      <td>0.186993</td>\n",
       "      <td>NaN</td>\n",
       "      <td>NaN</td>\n",
       "    </tr>\n",
       "    <tr>\n",
       "      <th>2019-09-03</th>\n",
       "      <td>-1.825364e-02</td>\n",
       "      <td>-1.422615e-02</td>\n",
       "      <td>-4.182926e-03</td>\n",
       "      <td>-0.013202</td>\n",
       "      <td>-0.211812</td>\n",
       "      <td>NaN</td>\n",
       "      <td>NaN</td>\n",
       "    </tr>\n",
       "    <tr>\n",
       "      <th>2019-09-04</th>\n",
       "      <td>5.050893e-03</td>\n",
       "      <td>3.571469e-03</td>\n",
       "      <td>5.747965e-03</td>\n",
       "      <td>0.011688</td>\n",
       "      <td>-0.046287</td>\n",
       "      <td>NaN</td>\n",
       "      <td>NaN</td>\n",
       "    </tr>\n",
       "    <tr>\n",
       "      <th>2019-09-05</th>\n",
       "      <td>1.318279e-02</td>\n",
       "      <td>1.953666e-02</td>\n",
       "      <td>1.670574e-02</td>\n",
       "      <td>0.017583</td>\n",
       "      <td>0.450430</td>\n",
       "      <td>NaN</td>\n",
       "      <td>NaN</td>\n",
       "    </tr>\n",
       "    <tr>\n",
       "      <th>2019-09-06</th>\n",
       "      <td>6.613458e-03</td>\n",
       "      <td>-1.424791e-03</td>\n",
       "      <td>-4.035728e-03</td>\n",
       "      <td>-0.006783</td>\n",
       "      <td>-0.202181</td>\n",
       "      <td>NaN</td>\n",
       "      <td>NaN</td>\n",
       "    </tr>\n",
       "    <tr>\n",
       "      <th>2019-09-09</th>\n",
       "      <td>-3.142201e-03</td>\n",
       "      <td>-3.067433e-03</td>\n",
       "      <td>-1.259038e-02</td>\n",
       "      <td>-0.011359</td>\n",
       "      <td>0.237672</td>\n",
       "      <td>NaN</td>\n",
       "      <td>NaN</td>\n",
       "    </tr>\n",
       "    <tr>\n",
       "      <th>2019-09-10</th>\n",
       "      <td>-1.998706e-02</td>\n",
       "      <td>-2.046512e-02</td>\n",
       "      <td>-1.428999e-02</td>\n",
       "      <td>-0.010471</td>\n",
       "      <td>0.121421</td>\n",
       "      <td>NaN</td>\n",
       "      <td>NaN</td>\n",
       "    </tr>\n",
       "    <tr>\n",
       "      <th>2019-09-11</th>\n",
       "      <td>-6.505843e-03</td>\n",
       "      <td>-4.529148e-03</td>\n",
       "      <td>4.311961e-03</td>\n",
       "      <td>0.000294</td>\n",
       "      <td>-0.144526</td>\n",
       "      <td>NaN</td>\n",
       "      <td>NaN</td>\n",
       "    </tr>\n",
       "    <tr>\n",
       "      <th>2019-09-12</th>\n",
       "      <td>1.427417e-02</td>\n",
       "      <td>1.577746e-02</td>\n",
       "      <td>1.317639e-02</td>\n",
       "      <td>0.010285</td>\n",
       "      <td>0.092368</td>\n",
       "      <td>NaN</td>\n",
       "      <td>NaN</td>\n",
       "    </tr>\n",
       "    <tr>\n",
       "      <th>2019-09-13</th>\n",
       "      <td>-5.078514e-04</td>\n",
       "      <td>-2.600785e-03</td>\n",
       "      <td>-2.191772e-03</td>\n",
       "      <td>-0.001454</td>\n",
       "      <td>-0.135020</td>\n",
       "      <td>NaN</td>\n",
       "      <td>NaN</td>\n",
       "    </tr>\n",
       "    <tr>\n",
       "      <th>2019-09-16</th>\n",
       "      <td>-1.415298e-02</td>\n",
       "      <td>-9.850794e-03</td>\n",
       "      <td>-6.663276e-03</td>\n",
       "      <td>-0.007209</td>\n",
       "      <td>-0.283854</td>\n",
       "      <td>NaN</td>\n",
       "      <td>NaN</td>\n",
       "    </tr>\n",
       "    <tr>\n",
       "      <th>2019-09-17</th>\n",
       "      <td>8.319258e-03</td>\n",
       "      <td>5.998591e-03</td>\n",
       "      <td>5.675873e-03</td>\n",
       "      <td>0.007775</td>\n",
       "      <td>0.064717</td>\n",
       "      <td>NaN</td>\n",
       "      <td>NaN</td>\n",
       "    </tr>\n",
       "    <tr>\n",
       "      <th>2019-09-18</th>\n",
       "      <td>2.920516e-03</td>\n",
       "      <td>8.362375e-03</td>\n",
       "      <td>7.330214e-04</td>\n",
       "      <td>0.008225</td>\n",
       "      <td>0.346235</td>\n",
       "      <td>NaN</td>\n",
       "      <td>NaN</td>\n",
       "    </tr>\n",
       "    <tr>\n",
       "      <th>2019-09-19</th>\n",
       "      <td>2.140363e-02</td>\n",
       "      <td>2.668203e-02</td>\n",
       "      <td>2.592843e-02</td>\n",
       "      <td>0.018409</td>\n",
       "      <td>0.491617</td>\n",
       "      <td>NaN</td>\n",
       "      <td>NaN</td>\n",
       "    </tr>\n",
       "    <tr>\n",
       "      <th>2019-09-20</th>\n",
       "      <td>5.060523e-03</td>\n",
       "      <td>-5.057254e-03</td>\n",
       "      <td>-1.299355e-02</td>\n",
       "      <td>-0.011555</td>\n",
       "      <td>0.094912</td>\n",
       "      <td>NaN</td>\n",
       "      <td>NaN</td>\n",
       "    </tr>\n",
       "    <tr>\n",
       "      <th>2019-09-23</th>\n",
       "      <td>-1.262321e-02</td>\n",
       "      <td>-1.426042e-02</td>\n",
       "      <td>1.374340e-03</td>\n",
       "      <td>-0.002151</td>\n",
       "      <td>-0.562408</td>\n",
       "      <td>NaN</td>\n",
       "      <td>NaN</td>\n",
       "    </tr>\n",
       "    <tr>\n",
       "      <th>2019-09-24</th>\n",
       "      <td>8.116102e-03</td>\n",
       "      <td>7.591474e-03</td>\n",
       "      <td>-1.126840e-02</td>\n",
       "      <td>-0.012649</td>\n",
       "      <td>0.737130</td>\n",
       "      <td>NaN</td>\n",
       "      <td>NaN</td>\n",
       "    </tr>\n",
       "    <tr>\n",
       "      <th>2019-09-25</th>\n",
       "      <td>-2.037618e-02</td>\n",
       "      <td>-5.188682e-03</td>\n",
       "      <td>-6.209863e-03</td>\n",
       "      <td>0.014413</td>\n",
       "      <td>-0.281837</td>\n",
       "      <td>NaN</td>\n",
       "      <td>NaN</td>\n",
       "    </tr>\n",
       "    <tr>\n",
       "      <th>2019-09-26</th>\n",
       "      <td>1.410911e-02</td>\n",
       "      <td>1.571777e-03</td>\n",
       "      <td>1.771671e-02</td>\n",
       "      <td>0.001292</td>\n",
       "      <td>-0.183584</td>\n",
       "      <td>NaN</td>\n",
       "      <td>NaN</td>\n",
       "    </tr>\n",
       "    <tr>\n",
       "      <th>2019-09-27</th>\n",
       "      <td>5.091734e-03</td>\n",
       "      <td>1.284120e-03</td>\n",
       "      <td>-1.292985e-02</td>\n",
       "      <td>-0.012971</td>\n",
       "      <td>0.287633</td>\n",
       "      <td>NaN</td>\n",
       "      <td>NaN</td>\n",
       "    </tr>\n",
       "    <tr>\n",
       "      <th>2019-09-30</th>\n",
       "      <td>-1.498388e-02</td>\n",
       "      <td>-8.121968e-03</td>\n",
       "      <td>8.269337e-03</td>\n",
       "      <td>0.009439</td>\n",
       "      <td>-0.231198</td>\n",
       "      <td>NaN</td>\n",
       "      <td>NaN</td>\n",
       "    </tr>\n",
       "    <tr>\n",
       "      <th>2019-10-01</th>\n",
       "      <td>1.166245e-02</td>\n",
       "      <td>7.398353e-03</td>\n",
       "      <td>-5.661190e-03</td>\n",
       "      <td>-0.014098</td>\n",
       "      <td>0.242215</td>\n",
       "      <td>NaN</td>\n",
       "      <td>NaN</td>\n",
       "    </tr>\n",
       "    <tr>\n",
       "      <th>2019-10-02</th>\n",
       "      <td>-2.441647e-02</td>\n",
       "      <td>-2.766492e-02</td>\n",
       "      <td>-2.496349e-02</td>\n",
       "      <td>-0.017655</td>\n",
       "      <td>0.421823</td>\n",
       "      <td>NaN</td>\n",
       "      <td>NaN</td>\n",
       "    </tr>\n",
       "    <tr>\n",
       "      <th>2019-10-03</th>\n",
       "      <td>-9.541307e-03</td>\n",
       "      <td>2.786573e-03</td>\n",
       "      <td>-2.695019e-03</td>\n",
       "      <td>0.012105</td>\n",
       "      <td>-0.209320</td>\n",
       "      <td>NaN</td>\n",
       "      <td>NaN</td>\n",
       "    </tr>\n",
       "    <tr>\n",
       "      <th>2019-10-04</th>\n",
       "      <td>1.333830e-02</td>\n",
       "      <td>1.096892e-02</td>\n",
       "      <td>2.402039e-02</td>\n",
       "      <td>0.013502</td>\n",
       "      <td>-0.051183</td>\n",
       "      <td>NaN</td>\n",
       "      <td>NaN</td>\n",
       "    </tr>\n",
       "    <tr>\n",
       "      <th>2019-10-07</th>\n",
       "      <td>2.851915e-03</td>\n",
       "      <td>-5.063821e-04</td>\n",
       "      <td>4.398227e-03</td>\n",
       "      <td>-0.007240</td>\n",
       "      <td>-0.331649</td>\n",
       "      <td>NaN</td>\n",
       "      <td>NaN</td>\n",
       "    </tr>\n",
       "  </tbody>\n",
       "</table>\n",
       "<p>8462 rows × 7 columns</p>\n",
       "</div>"
      ],
      "text/plain": [
       "                    Open          High           Low     Close    Volume  \\\n",
       "Date                                                                       \n",
       "1986-03-13           NaN           NaN           NaN       NaN       NaN   \n",
       "1986-03-14  9.803969e-02  8.547365e-03  9.803969e-02  0.035715 -0.701334   \n",
       "1986-03-17  3.571433e-02  8.474647e-03  3.571433e-02  0.017241 -0.567850   \n",
       "1986-03-18  1.724105e-02 -2.601656e-07 -1.724164e-02 -0.025424 -0.491133   \n",
       "1986-03-19 -2.542321e-02 -2.520956e-02 -1.754337e-02 -0.017391 -0.293243   \n",
       "1986-03-20 -1.739145e-02 -2.586226e-02 -2.678591e-02 -0.026549  0.220084   \n",
       "1986-03-21 -2.654880e-02 -8.849675e-03 -3.669733e-02 -0.027273  0.026614   \n",
       "1986-03-24 -2.727272e-02 -4.464285e-02 -1.904764e-02 -0.028037  0.088334   \n",
       "1986-03-25 -2.803785e-02 -9.346258e-03 -4.230280e-07  0.019230 -0.508602   \n",
       "1986-03-26  1.923101e-02  3.773610e-02  1.941772e-02  0.028302 -0.290844   \n",
       "1986-03-27  2.830225e-02  9.091256e-03  3.809557e-02  0.018349 -0.259494   \n",
       "1986-03-31  1.834862e-02 -1.484405e-08 -9.174292e-03 -0.009009 -0.235897   \n",
       "1986-04-01 -9.009335e-03 -9.009335e-03  9.258857e-03 -0.009091 -0.138702   \n",
       "1986-04-02 -9.090592e-03  1.818220e-02  3.633025e-07  0.009175  1.436364   \n",
       "1986-04-03  1.834865e-02  1.785717e-02  1.834865e-02  0.009091 -0.147122   \n",
       "1986-04-04  0.000000e+00 -1.754387e-02  0.000000e+00  0.000000  0.153750   \n",
       "1986-04-07 -3.781464e-07 -3.781464e-07 -3.603634e-02 -0.018018 -0.377031   \n",
       "1986-04-08 -1.801767e-02  3.633025e-07  1.869189e-02  0.009175 -0.380870   \n",
       "1986-04-09  9.173829e-03  8.928010e-03  9.173829e-03  0.018181  0.185393   \n",
       "1986-04-10  1.818251e-02  8.850272e-03  6.663429e-07  0.008929  0.142180   \n",
       "1986-04-11  1.785663e-02  2.631524e-02  3.636312e-02  0.017699  0.240664   \n",
       "1986-04-14  8.772128e-03  2.299209e-07  8.772128e-03  0.008696 -0.294314   \n",
       "1986-04-15  8.695694e-03 -8.546976e-03 -2.608693e-02  0.000000 -0.234597   \n",
       "1986-04-16  9.875417e-08  4.310353e-02  2.678579e-02  0.034483  2.430341   \n",
       "1986-04-17  3.448304e-02  3.275864e-07  4.347859e-02  0.008334 -0.310469   \n",
       "1986-04-18  8.332901e-03 -4.679085e-07 -3.333373e-02 -0.033058 -0.017016   \n",
       "1986-04-21 -3.305787e-02 -2.479344e-02 -1.724139e-02  0.000000  0.059920   \n",
       "1986-04-22 -1.883528e-07 -8.474731e-03  8.771706e-03 -0.017094 -0.321608   \n",
       "1986-04-23 -1.709376e-02 -8.546711e-03 -8.695354e-03  0.004348  0.003704   \n",
       "1986-04-24  4.347918e-03  1.120690e-01  8.772005e-03  0.099567  2.994465   \n",
       "...                  ...           ...           ...       ...       ...   \n",
       "2019-08-26 -1.603613e-02 -2.016631e-02  8.283063e-03  0.015443 -0.472518   \n",
       "2019-08-27  1.037109e-02  8.557124e-03  5.675951e-03  0.002141  0.137329   \n",
       "2019-08-28 -1.107115e-02 -7.021699e-03 -8.242987e-03 -0.001326 -0.247112   \n",
       "2019-08-29  1.757114e-02  1.974078e-02  2.515912e-02  0.018885  0.159567   \n",
       "2019-08-30  1.384331e-02  5.345205e-03 -4.674599e-03 -0.001882  0.186993   \n",
       "2019-09-03 -1.825364e-02 -1.422615e-02 -4.182926e-03 -0.013202 -0.211812   \n",
       "2019-09-04  5.050893e-03  3.571469e-03  5.747965e-03  0.011688 -0.046287   \n",
       "2019-09-05  1.318279e-02  1.953666e-02  1.670574e-02  0.017583  0.450430   \n",
       "2019-09-06  6.613458e-03 -1.424791e-03 -4.035728e-03 -0.006783 -0.202181   \n",
       "2019-09-09 -3.142201e-03 -3.067433e-03 -1.259038e-02 -0.011359  0.237672   \n",
       "2019-09-10 -1.998706e-02 -2.046512e-02 -1.428999e-02 -0.010471  0.121421   \n",
       "2019-09-11 -6.505843e-03 -4.529148e-03  4.311961e-03  0.000294 -0.144526   \n",
       "2019-09-12  1.427417e-02  1.577746e-02  1.317639e-02  0.010285  0.092368   \n",
       "2019-09-13 -5.078514e-04 -2.600785e-03 -2.191772e-03 -0.001454 -0.135020   \n",
       "2019-09-16 -1.415298e-02 -9.850794e-03 -6.663276e-03 -0.007209 -0.283854   \n",
       "2019-09-17  8.319258e-03  5.998591e-03  5.675873e-03  0.007775  0.064717   \n",
       "2019-09-18  2.920516e-03  8.362375e-03  7.330214e-04  0.008225  0.346235   \n",
       "2019-09-19  2.140363e-02  2.668203e-02  2.592843e-02  0.018409  0.491617   \n",
       "2019-09-20  5.060523e-03 -5.057254e-03 -1.299355e-02 -0.011555  0.094912   \n",
       "2019-09-23 -1.262321e-02 -1.426042e-02  1.374340e-03 -0.002151 -0.562408   \n",
       "2019-09-24  8.116102e-03  7.591474e-03 -1.126840e-02 -0.012649  0.737130   \n",
       "2019-09-25 -2.037618e-02 -5.188682e-03 -6.209863e-03  0.014413 -0.281837   \n",
       "2019-09-26  1.410911e-02  1.571777e-03  1.771671e-02  0.001292 -0.183584   \n",
       "2019-09-27  5.091734e-03  1.284120e-03 -1.292985e-02 -0.012971  0.287633   \n",
       "2019-09-30 -1.498388e-02 -8.121968e-03  8.269337e-03  0.009439 -0.231198   \n",
       "2019-10-01  1.166245e-02  7.398353e-03 -5.661190e-03 -0.014098  0.242215   \n",
       "2019-10-02 -2.441647e-02 -2.766492e-02 -2.496349e-02 -0.017655  0.421823   \n",
       "2019-10-03 -9.541307e-03  2.786573e-03 -2.695019e-03  0.012105 -0.209320   \n",
       "2019-10-04  1.333830e-02  1.096892e-02  2.402039e-02  0.013502 -0.051183   \n",
       "2019-10-07  2.851915e-03 -5.063821e-04  4.398227e-03 -0.007240 -0.331649   \n",
       "\n",
       "            Dividends  Stock Splits  \n",
       "Date                                 \n",
       "1986-03-13        NaN           NaN  \n",
       "1986-03-14        NaN           NaN  \n",
       "1986-03-17        NaN           NaN  \n",
       "1986-03-18        NaN           NaN  \n",
       "1986-03-19        NaN           NaN  \n",
       "1986-03-20        NaN           NaN  \n",
       "1986-03-21        NaN           NaN  \n",
       "1986-03-24        NaN           NaN  \n",
       "1986-03-25        NaN           NaN  \n",
       "1986-03-26        NaN           NaN  \n",
       "1986-03-27        NaN           NaN  \n",
       "1986-03-31        NaN           NaN  \n",
       "1986-04-01        NaN           NaN  \n",
       "1986-04-02        NaN           NaN  \n",
       "1986-04-03        NaN           NaN  \n",
       "1986-04-04        NaN           NaN  \n",
       "1986-04-07        NaN           NaN  \n",
       "1986-04-08        NaN           NaN  \n",
       "1986-04-09        NaN           NaN  \n",
       "1986-04-10        NaN           NaN  \n",
       "1986-04-11        NaN           NaN  \n",
       "1986-04-14        NaN           NaN  \n",
       "1986-04-15        NaN           NaN  \n",
       "1986-04-16        NaN           NaN  \n",
       "1986-04-17        NaN           NaN  \n",
       "1986-04-18        NaN           NaN  \n",
       "1986-04-21        NaN           NaN  \n",
       "1986-04-22        NaN           NaN  \n",
       "1986-04-23        NaN           NaN  \n",
       "1986-04-24        NaN           NaN  \n",
       "...               ...           ...  \n",
       "2019-08-26        NaN           NaN  \n",
       "2019-08-27        NaN           NaN  \n",
       "2019-08-28        NaN           NaN  \n",
       "2019-08-29        NaN           NaN  \n",
       "2019-08-30        NaN           NaN  \n",
       "2019-09-03        NaN           NaN  \n",
       "2019-09-04        NaN           NaN  \n",
       "2019-09-05        NaN           NaN  \n",
       "2019-09-06        NaN           NaN  \n",
       "2019-09-09        NaN           NaN  \n",
       "2019-09-10        NaN           NaN  \n",
       "2019-09-11        NaN           NaN  \n",
       "2019-09-12        NaN           NaN  \n",
       "2019-09-13        NaN           NaN  \n",
       "2019-09-16        NaN           NaN  \n",
       "2019-09-17        NaN           NaN  \n",
       "2019-09-18        NaN           NaN  \n",
       "2019-09-19        NaN           NaN  \n",
       "2019-09-20        NaN           NaN  \n",
       "2019-09-23        NaN           NaN  \n",
       "2019-09-24        NaN           NaN  \n",
       "2019-09-25        NaN           NaN  \n",
       "2019-09-26        NaN           NaN  \n",
       "2019-09-27        NaN           NaN  \n",
       "2019-09-30        NaN           NaN  \n",
       "2019-10-01        NaN           NaN  \n",
       "2019-10-02        NaN           NaN  \n",
       "2019-10-03        NaN           NaN  \n",
       "2019-10-04        NaN           NaN  \n",
       "2019-10-07        NaN           NaN  \n",
       "\n",
       "[8462 rows x 7 columns]"
      ]
     },
     "execution_count": 28,
     "metadata": {},
     "output_type": "execute_result"
    }
   ],
   "source": [
    "returns"
   ]
  },
  {
   "cell_type": "code",
   "execution_count": 25,
   "metadata": {},
   "outputs": [
    {
     "data": {
      "text/plain": [
       "Open            0.021428\n",
       "High            0.018397\n",
       "Low             0.020030\n",
       "Close           0.021349\n",
       "Volume          0.646362\n",
       "Dividends            NaN\n",
       "Stock Splits         NaN\n",
       "dtype: float64"
      ]
     },
     "execution_count": 25,
     "metadata": {},
     "output_type": "execute_result"
    }
   ],
   "source": [
    "returns.std()"
   ]
  },
  {
   "cell_type": "code",
   "execution_count": 26,
   "metadata": {},
   "outputs": [
    {
     "data": {
      "text/plain": [
       "Open            0.001150\n",
       "High            0.001074\n",
       "Low             0.001122\n",
       "Close           0.001138\n",
       "Volume          0.101625\n",
       "Dividends            inf\n",
       "Stock Splits         inf\n",
       "dtype: float64"
      ]
     },
     "execution_count": 26,
     "metadata": {},
     "output_type": "execute_result"
    }
   ],
   "source": [
    "returns.mean()"
   ]
  },
  {
   "cell_type": "code",
   "execution_count": 29,
   "metadata": {},
   "outputs": [
    {
     "data": {
      "text/plain": [
       "Open            0.107844\n",
       "High           -0.034187\n",
       "Low             0.078432\n",
       "Close           0.008929\n",
       "Volume         -0.987942\n",
       "Dividends       0.000000\n",
       "Stock Splits    0.000000\n",
       "dtype: float64"
      ]
     },
     "execution_count": 29,
     "metadata": {},
     "output_type": "execute_result"
    }
   ],
   "source": [
    "(returns.iloc[1:100]+1).prod()-1"
   ]
  },
  {
   "cell_type": "markdown",
   "metadata": {},
   "source": [
    "## Annualization"
   ]
  },
  {
   "cell_type": "code",
   "execution_count": 30,
   "metadata": {},
   "outputs": [
    {
     "data": {
      "text/plain": [
       "0.12682503013196977"
      ]
     },
     "execution_count": 30,
     "metadata": {},
     "output_type": "execute_result"
    }
   ],
   "source": [
    "rm = 0.01\n",
    "(1+rm)**12-1"
   ]
  },
  {
   "cell_type": "code",
   "execution_count": 31,
   "metadata": {},
   "outputs": [
    {
     "data": {
      "text/plain": [
       "11.274002099240244"
      ]
     },
     "execution_count": 31,
     "metadata": {},
     "output_type": "execute_result"
    }
   ],
   "source": [
    "rd = 0.01\n",
    "(1+rd)**252-1"
   ]
  },
  {
   "cell_type": "markdown",
   "metadata": {},
   "source": [
    "### Segunda clase"
   ]
  },
  {
   "cell_type": "code",
   "execution_count": 34,
   "metadata": {},
   "outputs": [],
   "source": [
    "Datos = returns[['Open','Close']].dropna()"
   ]
  },
  {
   "cell_type": "code",
   "execution_count": 39,
   "metadata": {},
   "outputs": [
    {
     "data": {
      "text/plain": [
       "Open     0.021428\n",
       "Close    0.021349\n",
       "dtype: float64"
      ]
     },
     "execution_count": 39,
     "metadata": {},
     "output_type": "execute_result"
    }
   ],
   "source": [
    "Datos.std()"
   ]
  },
  {
   "cell_type": "code",
   "execution_count": 41,
   "metadata": {},
   "outputs": [
    {
     "data": {
      "text/plain": [
       "Open     0.021428\n",
       "Close    0.021349\n",
       "dtype: float64"
      ]
     },
     "execution_count": 41,
     "metadata": {},
     "output_type": "execute_result"
    }
   ],
   "source": [
    "volatility = np.sqrt(np.sum((Datos-Datos.mean())**2)/(Datos.shape[0]-1))\n",
    "volatility"
   ]
  },
  {
   "cell_type": "markdown",
   "metadata": {},
   "source": [
    "### Annual return"
   ]
  },
  {
   "cell_type": "code",
   "execution_count": 44,
   "metadata": {},
   "outputs": [
    {
     "data": {
      "text/plain": [
       "Open     0.340152\n",
       "Close    0.338905\n",
       "dtype: float64"
      ]
     },
     "execution_count": 44,
     "metadata": {},
     "output_type": "execute_result"
    }
   ],
   "source": [
    "np.sqrt(252)*Datos.std()"
   ]
  },
  {
   "cell_type": "code",
   "execution_count": 45,
   "metadata": {},
   "outputs": [
    {
     "data": {
      "text/plain": [
       "[<matplotlib.lines.Line2D at 0x7f9e1ddda3c8>,\n",
       " <matplotlib.lines.Line2D at 0x7f9e1de8fc88>]"
      ]
     },
     "execution_count": 45,
     "metadata": {},
     "output_type": "execute_result"
    },
    {
     "data": {
      "image/png": "[encoded data removed]",
      "text/plain": [
       "<Figure size 432x288 with 1 Axes>"
      ]
     },
     "metadata": {
      "needs_background": "light"
     },
     "output_type": "display_data"
    }
   ],
   "source": [
    "plt.plot(Datos)"
   ]
  },
  {
   "cell_type": "code",
   "execution_count": 46,
   "metadata": {},
   "outputs": [
    {
     "data": {
      "text/plain": [
       "Open     0.021428\n",
       "Close    0.021349\n",
       "dtype: float64"
      ]
     },
     "execution_count": 46,
     "metadata": {},
     "output_type": "execute_result"
    }
   ],
   "source": [
    "Datos.std()"
   ]
  },
  {
   "cell_type": "code",
   "execution_count": 49,
   "metadata": {},
   "outputs": [
    {
     "data": {
      "text/plain": [
       "Open     0.000920\n",
       "Close    0.000909\n",
       "dtype: float64"
      ]
     },
     "execution_count": 49,
     "metadata": {},
     "output_type": "execute_result"
    }
   ],
   "source": [
    "ndays = Datos.shape[0]\n",
    "returns_per_day = (Datos+1).prod()**(1/ndays)-1\n",
    "returns_per_day"
   ]
  },
  {
   "cell_type": "code",
   "execution_count": 54,
   "metadata": {},
   "outputs": [
    {
     "data": {
      "text/plain": [
       "Open     0.276042\n",
       "Close    0.272304\n",
       "dtype: float64"
      ]
     },
     "execution_count": 54,
     "metadata": {},
     "output_type": "execute_result"
    }
   ],
   "source": [
    "annualized_return = ((returns_per_day+1)**265)-1\n",
    "annualized_return"
   ]
  },
  {
   "cell_type": "code",
   "execution_count": 55,
   "metadata": {},
   "outputs": [],
   "source": [
    "annualizedVol = np.sqrt(252)*Datos.std()"
   ]
  },
  {
   "cell_type": "code",
   "execution_count": 58,
   "metadata": {},
   "outputs": [
    {
     "data": {
      "text/plain": [
       "Open     0.806625\n",
       "Close    0.798563\n",
       "dtype: float64"
      ]
     },
     "execution_count": 58,
     "metadata": {},
     "output_type": "execute_result"
    }
   ],
   "source": [
    "riskfree = 0.05/30\n",
    "sharpeRatio = (annualized_return-riskfree)/annualizedVol\n",
    "sharpeRatio"
   ]
  },
  {
   "cell_type": "code",
   "execution_count": 68,
   "metadata": {},
   "outputs": [
    {
     "data": {
      "text/plain": [
       "2.0"
      ]
     },
     "execution_count": 68,
     "metadata": {},
     "output_type": "execute_result"
    }
   ],
   "source": [
    "1/0.5"
   ]
  },
  {
   "cell_type": "code",
   "execution_count": 72,
   "metadata": {},
   "outputs": [
    {
     "data": {
      "text/plain": [
       "0.07100000000000001"
      ]
     },
     "execution_count": 72,
     "metadata": {},
     "output_type": "execute_result"
    }
   ],
   "source": [
    "0.005+1.65*0.04"
   ]
  },
  {
   "cell_type": "code",
   "execution_count": 1,
   "metadata": {},
   "outputs": [
    {
     "data": {
      "application/vnd.jupyter.widget-view+json": {
       "model_id": "2a5d054b749141de81bc603a7ab8ad76",
       "version_major": 2,
       "version_minor": 0
      },
      "text/plain": [
       "IntSlider(value=0)"
      ]
     },
     "metadata": {},
     "output_type": "display_data"
    }
   ],
   "source": [
    "import ipywidgets as widgets\n",
    "from IPython.display import display\n",
    "w = widgets.IntSlider()\n",
    "display(w)\n"
   ]
  },
  {
   "cell_type": "code",
   "execution_count": null,
   "metadata": {},
   "outputs": [],
   "source": []
  }
 ],
 "metadata": {
  "kernelspec": {
   "display_name": "MachineLearning",
   "language": "python",
   "name": "machinelearning"
  },
  "language_info": {
   "codemirror_mode": {
    "name": "ipython",
    "version": 3
   },
   "file_extension": ".py",
   "mimetype": "text/x-python",
   "name": "python",
   "nbconvert_exporter": "python",
   "pygments_lexer": "ipython3",
   "version": "3.6.8"
  }
 },
 "nbformat": 4,
 "nbformat_minor": 4
}
