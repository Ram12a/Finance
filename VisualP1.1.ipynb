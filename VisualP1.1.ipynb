{
 "cells": [
  {
   "cell_type": "code",
   "execution_count": 37,
   "metadata": {},
   "outputs": [
    {
     "name": "stdout",
     "output_type": "stream",
     "text": [
      "The autoreload extension is already loaded. To reload it, use:\n",
      "  %reload_ext autoreload\n"
     ]
    }
   ],
   "source": [
    "from Class import GetAndFormatTheData\n",
    "from Class import ReturnOps\n",
    "import matplotlib.pyplot as plt\n",
    "import pandas as pd"
   ]
  },
  {
   "cell_type": "code",
   "execution_count": 38,
   "metadata": {},
   "outputs": [],
   "source": [
    "Datos = GetAndFormatTheData()\n",
    "RetOp = ReturnOps()"
   ]
  },
  {
   "cell_type": "code",
   "execution_count": 39,
   "metadata": {},
   "outputs": [
    {
     "name": "stdout",
     "output_type": "stream",
     "text": [
      "[*********************100%***********************]  1 of 1 downloaded\n",
      "[*********************100%***********************]  1 of 1 downloaded\n",
      "[*********************100%***********************]  1 of 1 downloaded\n"
     ]
    }
   ],
   "source": [
    "Base = Datos.GetDataFromYahooSeveral('2017-01-01','2017-03-01','1d','Adj Close','AAPL','AMZ','MSFT')"
   ]
  },
  {
   "cell_type": "code",
   "execution_count": 44,
   "metadata": {},
   "outputs": [
    {
     "data": {
      "text/html": [
       "<div>\n",
       "<style scoped>\n",
       "    .dataframe tbody tr th:only-of-type {\n",
       "        vertical-align: middle;\n",
       "    }\n",
       "\n",
       "    .dataframe tbody tr th {\n",
       "        vertical-align: top;\n",
       "    }\n",
       "\n",
       "    .dataframe thead th {\n",
       "        text-align: right;\n",
       "    }\n",
       "</style>\n",
       "<table border=\"1\" class=\"dataframe\">\n",
       "  <thead>\n",
       "    <tr style=\"text-align: right;\">\n",
       "      <th></th>\n",
       "      <th>AAPL</th>\n",
       "      <th>AMZ</th>\n",
       "      <th>MSFT</th>\n",
       "    </tr>\n",
       "    <tr>\n",
       "      <th>Date</th>\n",
       "      <th></th>\n",
       "      <th></th>\n",
       "      <th></th>\n",
       "    </tr>\n",
       "  </thead>\n",
       "  <tbody>\n",
       "    <tr>\n",
       "      <th>2017-01-04</th>\n",
       "      <td>-0.001168</td>\n",
       "      <td>-0.007037</td>\n",
       "      <td>-0.004538</td>\n",
       "    </tr>\n",
       "    <tr>\n",
       "      <th>2017-01-05</th>\n",
       "      <td>0.005128</td>\n",
       "      <td>0.010817</td>\n",
       "      <td>0.000000</td>\n",
       "    </tr>\n",
       "    <tr>\n",
       "      <th>2017-01-06</th>\n",
       "      <td>0.011098</td>\n",
       "      <td>0.023644</td>\n",
       "      <td>0.008611</td>\n",
       "    </tr>\n",
       "    <tr>\n",
       "      <th>2017-01-09</th>\n",
       "      <td>0.009206</td>\n",
       "      <td>0.012016</td>\n",
       "      <td>-0.003180</td>\n",
       "    </tr>\n",
       "    <tr>\n",
       "      <th>2017-01-10</th>\n",
       "      <td>0.000965</td>\n",
       "      <td>-0.002111</td>\n",
       "      <td>-0.000336</td>\n",
       "    </tr>\n",
       "    <tr>\n",
       "      <th>2017-01-11</th>\n",
       "      <td>0.005433</td>\n",
       "      <td>0.000198</td>\n",
       "      <td>0.009239</td>\n",
       "    </tr>\n",
       "    <tr>\n",
       "      <th>2017-01-12</th>\n",
       "      <td>-0.004183</td>\n",
       "      <td>0.000000</td>\n",
       "      <td>-0.009154</td>\n",
       "    </tr>\n",
       "    <tr>\n",
       "      <th>2017-01-13</th>\n",
       "      <td>-0.001750</td>\n",
       "      <td>0.019496</td>\n",
       "      <td>0.001344</td>\n",
       "    </tr>\n",
       "    <tr>\n",
       "      <th>2017-01-17</th>\n",
       "      <td>0.008066</td>\n",
       "      <td>-0.021781</td>\n",
       "      <td>-0.002684</td>\n",
       "    </tr>\n",
       "    <tr>\n",
       "      <th>2017-01-18</th>\n",
       "      <td>-0.000087</td>\n",
       "      <td>0.000398</td>\n",
       "      <td>-0.000505</td>\n",
       "    </tr>\n",
       "    <tr>\n",
       "      <th>2017-01-19</th>\n",
       "      <td>-0.001740</td>\n",
       "      <td>0.000000</td>\n",
       "      <td>-0.003198</td>\n",
       "    </tr>\n",
       "    <tr>\n",
       "      <th>2017-01-20</th>\n",
       "      <td>0.001830</td>\n",
       "      <td>0.000000</td>\n",
       "      <td>0.007091</td>\n",
       "    </tr>\n",
       "    <tr>\n",
       "      <th>2017-01-23</th>\n",
       "      <td>0.000609</td>\n",
       "      <td>-0.006227</td>\n",
       "      <td>0.003521</td>\n",
       "    </tr>\n",
       "    <tr>\n",
       "      <th>2017-01-24</th>\n",
       "      <td>-0.000869</td>\n",
       "      <td>0.016798</td>\n",
       "      <td>0.008854</td>\n",
       "    </tr>\n",
       "    <tr>\n",
       "      <th>2017-01-25</th>\n",
       "      <td>0.015920</td>\n",
       "      <td>0.006739</td>\n",
       "      <td>0.002484</td>\n",
       "    </tr>\n",
       "    <tr>\n",
       "      <th>2017-01-26</th>\n",
       "      <td>0.000428</td>\n",
       "      <td>0.023065</td>\n",
       "      <td>0.009250</td>\n",
       "    </tr>\n",
       "    <tr>\n",
       "      <th>2017-01-27</th>\n",
       "      <td>0.000086</td>\n",
       "      <td>-0.005474</td>\n",
       "      <td>0.023568</td>\n",
       "    </tr>\n",
       "    <tr>\n",
       "      <th>2017-01-30</th>\n",
       "      <td>-0.002568</td>\n",
       "      <td>-0.002317</td>\n",
       "      <td>-0.009914</td>\n",
       "    </tr>\n",
       "    <tr>\n",
       "      <th>2017-01-31</th>\n",
       "      <td>-0.002317</td>\n",
       "      <td>-0.009545</td>\n",
       "      <td>-0.007429</td>\n",
       "    </tr>\n",
       "    <tr>\n",
       "      <th>2017-02-01</th>\n",
       "      <td>0.060979</td>\n",
       "      <td>-0.008925</td>\n",
       "      <td>-0.016433</td>\n",
       "    </tr>\n",
       "    <tr>\n",
       "      <th>2017-02-02</th>\n",
       "      <td>-0.001702</td>\n",
       "      <td>0.017501</td>\n",
       "      <td>-0.006452</td>\n",
       "    </tr>\n",
       "    <tr>\n",
       "      <th>2017-02-03</th>\n",
       "      <td>0.004304</td>\n",
       "      <td>-0.032691</td>\n",
       "      <td>0.007992</td>\n",
       "    </tr>\n",
       "    <tr>\n",
       "      <th>2017-02-06</th>\n",
       "      <td>0.009298</td>\n",
       "      <td>-0.001952</td>\n",
       "      <td>-0.000661</td>\n",
       "    </tr>\n",
       "    <tr>\n",
       "      <th>2017-02-07</th>\n",
       "      <td>0.009533</td>\n",
       "      <td>0.001889</td>\n",
       "      <td>-0.003306</td>\n",
       "    </tr>\n",
       "    <tr>\n",
       "      <th>2017-02-08</th>\n",
       "      <td>0.003888</td>\n",
       "      <td>0.016999</td>\n",
       "      <td>-0.001327</td>\n",
       "    </tr>\n",
       "    <tr>\n",
       "      <th>2017-02-09</th>\n",
       "      <td>0.007272</td>\n",
       "      <td>0.009676</td>\n",
       "      <td>0.011292</td>\n",
       "    </tr>\n",
       "    <tr>\n",
       "      <th>2017-02-10</th>\n",
       "      <td>-0.002276</td>\n",
       "      <td>0.001862</td>\n",
       "      <td>-0.000821</td>\n",
       "    </tr>\n",
       "    <tr>\n",
       "      <th>2017-02-13</th>\n",
       "      <td>0.008809</td>\n",
       "      <td>0.000000</td>\n",
       "      <td>0.011175</td>\n",
       "    </tr>\n",
       "    <tr>\n",
       "      <th>2017-02-14</th>\n",
       "      <td>0.013020</td>\n",
       "      <td>0.000000</td>\n",
       "      <td>0.003738</td>\n",
       "    </tr>\n",
       "    <tr>\n",
       "      <th>2017-02-15</th>\n",
       "      <td>0.003617</td>\n",
       "      <td>0.000000</td>\n",
       "      <td>-0.000648</td>\n",
       "    </tr>\n",
       "    <tr>\n",
       "      <th>2017-02-16</th>\n",
       "      <td>-0.001150</td>\n",
       "      <td>0.000000</td>\n",
       "      <td>-0.000162</td>\n",
       "    </tr>\n",
       "    <tr>\n",
       "      <th>2017-02-17</th>\n",
       "      <td>0.002687</td>\n",
       "      <td>0.000000</td>\n",
       "      <td>0.001620</td>\n",
       "    </tr>\n",
       "    <tr>\n",
       "      <th>2017-02-21</th>\n",
       "      <td>0.007198</td>\n",
       "      <td>0.048215</td>\n",
       "      <td>-0.002103</td>\n",
       "    </tr>\n",
       "    <tr>\n",
       "      <th>2017-02-22</th>\n",
       "      <td>0.003041</td>\n",
       "      <td>0.001478</td>\n",
       "      <td>-0.001946</td>\n",
       "    </tr>\n",
       "    <tr>\n",
       "      <th>2017-02-23</th>\n",
       "      <td>-0.004244</td>\n",
       "      <td>-0.010022</td>\n",
       "      <td>0.004061</td>\n",
       "    </tr>\n",
       "    <tr>\n",
       "      <th>2017-02-24</th>\n",
       "      <td>0.000989</td>\n",
       "      <td>0.000000</td>\n",
       "      <td>0.000000</td>\n",
       "    </tr>\n",
       "    <tr>\n",
       "      <th>2017-02-27</th>\n",
       "      <td>0.001977</td>\n",
       "      <td>-0.006273</td>\n",
       "      <td>-0.005986</td>\n",
       "    </tr>\n",
       "    <tr>\n",
       "      <th>2017-02-28</th>\n",
       "      <td>0.000379</td>\n",
       "      <td>0.000000</td>\n",
       "      <td>-0.003906</td>\n",
       "    </tr>\n",
       "  </tbody>\n",
       "</table>\n",
       "</div>"
      ],
      "text/plain": [
       "                AAPL       AMZ      MSFT\n",
       "Date                                    \n",
       "2017-01-04 -0.001168 -0.007037 -0.004538\n",
       "2017-01-05  0.005128  0.010817  0.000000\n",
       "2017-01-06  0.011098  0.023644  0.008611\n",
       "2017-01-09  0.009206  0.012016 -0.003180\n",
       "2017-01-10  0.000965 -0.002111 -0.000336\n",
       "2017-01-11  0.005433  0.000198  0.009239\n",
       "2017-01-12 -0.004183  0.000000 -0.009154\n",
       "2017-01-13 -0.001750  0.019496  0.001344\n",
       "2017-01-17  0.008066 -0.021781 -0.002684\n",
       "2017-01-18 -0.000087  0.000398 -0.000505\n",
       "2017-01-19 -0.001740  0.000000 -0.003198\n",
       "2017-01-20  0.001830  0.000000  0.007091\n",
       "2017-01-23  0.000609 -0.006227  0.003521\n",
       "2017-01-24 -0.000869  0.016798  0.008854\n",
       "2017-01-25  0.015920  0.006739  0.002484\n",
       "2017-01-26  0.000428  0.023065  0.009250\n",
       "2017-01-27  0.000086 -0.005474  0.023568\n",
       "2017-01-30 -0.002568 -0.002317 -0.009914\n",
       "2017-01-31 -0.002317 -0.009545 -0.007429\n",
       "2017-02-01  0.060979 -0.008925 -0.016433\n",
       "2017-02-02 -0.001702  0.017501 -0.006452\n",
       "2017-02-03  0.004304 -0.032691  0.007992\n",
       "2017-02-06  0.009298 -0.001952 -0.000661\n",
       "2017-02-07  0.009533  0.001889 -0.003306\n",
       "2017-02-08  0.003888  0.016999 -0.001327\n",
       "2017-02-09  0.007272  0.009676  0.011292\n",
       "2017-02-10 -0.002276  0.001862 -0.000821\n",
       "2017-02-13  0.008809  0.000000  0.011175\n",
       "2017-02-14  0.013020  0.000000  0.003738\n",
       "2017-02-15  0.003617  0.000000 -0.000648\n",
       "2017-02-16 -0.001150  0.000000 -0.000162\n",
       "2017-02-17  0.002687  0.000000  0.001620\n",
       "2017-02-21  0.007198  0.048215 -0.002103\n",
       "2017-02-22  0.003041  0.001478 -0.001946\n",
       "2017-02-23 -0.004244 -0.010022  0.004061\n",
       "2017-02-24  0.000989  0.000000  0.000000\n",
       "2017-02-27  0.001977 -0.006273 -0.005986\n",
       "2017-02-28  0.000379  0.000000 -0.003906"
      ]
     },
     "execution_count": 44,
     "metadata": {},
     "output_type": "execute_result"
    }
   ],
   "source": [
    "RetOp.ComputeSeveralReturns(Base)"
   ]
  },
  {
   "cell_type": "code",
   "execution_count": 32,
   "metadata": {},
   "outputs": [
    {
     "data": {
      "text/plain": [
       "[<matplotlib.lines.Line2D at 0x7f29e8b83400>]"
      ]
     },
     "execution_count": 32,
     "metadata": {},
     "output_type": "execute_result"
    },
    {
     "data": {
      "image/png": "[encoded data removed]",
      "text/plain": [
       "<Figure size 432x288 with 1 Axes>"
      ]
     },
     "metadata": {
      "needs_background": "light"
     },
     "output_type": "display_data"
    }
   ],
   "source": [
    "plt.plot(RetOp.ComputeOnereturn(AAPL,'Adj Close'))"
   ]
  },
  {
   "cell_type": "code",
   "execution_count": 30,
   "metadata": {},
   "outputs": [
    {
     "data": {
      "text/plain": [
       "0.1698585600000002"
      ]
     },
     "execution_count": 30,
     "metadata": {},
     "output_type": "execute_result"
    }
   ],
   "source": [
    "RetOp.AnnualizingReturn(0.04,4)"
   ]
  },
  {
   "cell_type": "code",
   "execution_count": 2,
   "metadata": {},
   "outputs": [],
   "source": [
    "np.random.seed(42)     # Fix random seed\n",
    "links_coeffs = {0: [((0, -1), 0.7), ((1, -1), -0.8)],\n",
    "                1: [((1, -1), 0.8), ((3, -1), 0.8)],\n",
    "                2: [((2, -1), 0.5), ((1, -2), 0.5), ((3, -3), 0.6)],\n",
    "                3: [((3, -1), 0.4)],\n",
    "                }\n",
    "T = 1000     # time series length\n",
    "data, true_parents_neighbors = pp.var_process(links_coeffs, T=T)\n",
    "T, N = data.shape\n",
    "\n",
    "# Initialize dataframe object, specify time axis and variable names\n",
    "var_names = [r'$X^0$', r'$X^1$', r'$X^2$', r'$X^3$']\n",
    "dataframe = pp.DataFrame(data, \n",
    "                         datatime = np.arange(len(data)), \n",
    "                         var_names=var_names)"
   ]
  },
  {
   "cell_type": "code",
   "execution_count": 3,
   "metadata": {},
   "outputs": [],
   "source": [
    "parcorr = ParCorr(significance='analytic')\n",
    "pcmci = PCMCI(\n",
    "    dataframe=dataframe, \n",
    "    cond_ind_test=parcorr,\n",
    "    verbosity=1)\n"
   ]
  },
  {
   "cell_type": "code",
   "execution_count": 4,
   "metadata": {},
   "outputs": [
    {
     "name": "stdout",
     "output_type": "stream",
     "text": [
      "\n",
      "## Estimating lagged dependencies\n"
     ]
    },
    {
     "data": {
      "image/png": "[encoded data removed]",
      "text/plain": [
       "<Figure size 432x288 with 16 Axes>"
      ]
     },
     "metadata": {
      "needs_background": "light"
     },
     "output_type": "display_data"
    }
   ],
   "source": [
    "correlations = pcmci.get_lagged_dependencies(tau_max=20)\n",
    "lag_func_matrix = tp.plot_lagfuncs(val_matrix=correlations, setup_args={'var_names':var_names, \n",
    "                                    'x_base':5, 'y_base':.5})\n",
    "\n"
   ]
  },
  {
   "cell_type": "code",
   "execution_count": 5,
   "metadata": {},
   "outputs": [
    {
     "name": "stdout",
     "output_type": "stream",
     "text": [
      "\n",
      "##\n",
      "## Running Tigramite PC algorithm\n",
      "##\n",
      "\n",
      "Parameters:\n",
      "independence test = par_corr\n",
      "tau_min = 1\n",
      "tau_max = 8\n",
      "pc_alpha = None\n",
      "max_conds_dim = None\n",
      "max_combinations = 1\n",
      "\n",
      "\n",
      "\n",
      "## Variable $X^0$\n",
      "\n",
      "## Variable $X^1$\n",
      "\n",
      "## Variable $X^2$\n",
      "\n",
      "## Variable $X^3$\n",
      "\n",
      "## Resulting condition sets:\n",
      "\n",
      "    Variable $X^0$ has 7 parent(s):\n",
      "    [pc_alpha = 0.3]\n",
      "        ($X^0$ -1): max_pval = 0.00000, min_val = 0.796\n",
      "        ($X^1$ -1): max_pval = 0.00000, min_val = 0.748\n",
      "        ($X^3$ -2): max_pval = 0.13715, min_val = 0.048\n",
      "        ($X^3$ -1): max_pval = 0.19326, min_val = 0.042\n",
      "        ($X^2$ -1): max_pval = 0.20477, min_val = 0.041\n",
      "        ($X^3$ -7): max_pval = 0.25822, min_val = 0.036\n",
      "        ($X^1$ -4): max_pval = 0.26548, min_val = 0.036\n",
      "\n",
      "    Variable $X^1$ has 4 parent(s):\n",
      "    [pc_alpha = 0.3]\n",
      "        ($X^1$ -1): max_pval = 0.00000, min_val = 0.695\n",
      "        ($X^3$ -1): max_pval = 0.00000, min_val = 0.484\n",
      "        ($X^3$ -7): max_pval = 0.14660, min_val = 0.046\n",
      "        ($X^2$ -1): max_pval = 0.22144, min_val = 0.039\n",
      "\n",
      "    Variable $X^2$ has 4 parent(s):\n",
      "    [pc_alpha = 0.2]\n",
      "        ($X^2$ -1): max_pval = 0.00000, min_val = 0.450\n",
      "        ($X^1$ -2): max_pval = 0.00000, min_val = 0.447\n",
      "        ($X^3$ -3): max_pval = 0.00000, min_val = 0.183\n",
      "        ($X^3$ -1): max_pval = 0.12516, min_val = 0.049\n",
      "\n",
      "    Variable $X^3$ has 1 parent(s):\n",
      "    [pc_alpha = 0.05]\n",
      "        ($X^3$ -1): max_pval = 0.00000, min_val = 0.372\n",
      "\n",
      "##\n",
      "## Running Tigramite MCI algorithm\n",
      "##\n",
      "\n",
      "Parameters:\n",
      "\n",
      "independence test = par_corr\n",
      "tau_min = 0\n",
      "tau_max = 8\n",
      "max_conds_py = None\n",
      "max_conds_px = None\n",
      "\n",
      "## Significant links at alpha = 0.05:\n",
      "\n",
      "    Variable $X^0$ has 7 link(s):\n",
      "        ($X^1$ -1): pval = 0.00000 | val = -0.653 | conf = (0.000, 0.000)\n",
      "        ($X^0$ -1): pval = 0.00000 | val = 0.566 | conf = (0.000, 0.000)\n",
      "        ($X^1$ -5): pval = 0.00496 | val = -0.090 | conf = (0.000, 0.000)\n",
      "        ($X^3$ -2): pval = 0.02086 | val = 0.074 | conf = (0.000, 0.000)\n",
      "        ($X^3$ -1): pval = 0.03017 | val = -0.069 | conf = (0.000, 0.000)\n",
      "        ($X^0$ -5): pval = 0.03358 | val = 0.068 | conf = (0.000, 0.000)\n",
      "        ($X^1$ -4): pval = 0.04107 | val = 0.065 | conf = (0.000, 0.000)\n",
      "\n",
      "    Variable $X^1$ has 3 link(s):\n",
      "        ($X^3$ -1): pval = 0.00000 | val = 0.663 | conf = (0.000, 0.000)\n",
      "        ($X^1$ -1): pval = 0.00000 | val = 0.622 | conf = (0.000, 0.000)\n",
      "        ($X^3$ -7): pval = 0.01579 | val = 0.077 | conf = (0.000, 0.000)\n",
      "\n",
      "    Variable $X^2$ has 4 link(s):\n",
      "        ($X^3$ -3): pval = 0.00000 | val = 0.451 | conf = (0.000, 0.000)\n",
      "        ($X^1$ -2): pval = 0.00000 | val = 0.446 | conf = (0.000, 0.000)\n",
      "        ($X^2$ -1): pval = 0.00000 | val = 0.425 | conf = (0.000, 0.000)\n",
      "        ($X^0$ -3): pval = 0.01086 | val = 0.082 | conf = (0.000, 0.000)\n",
      "\n",
      "    Variable $X^3$ has 1 link(s):\n",
      "        ($X^3$ -1): pval = 0.00000 | val = 0.372 | conf = (0.000, 0.000)\n"
     ]
    }
   ],
   "source": [
    "pcmci.verbosity = 1\n",
    "results = pcmci.run_pcmci(tau_max=8, pc_alpha=None)"
   ]
  },
  {
   "cell_type": "code",
   "execution_count": 6,
   "metadata": {},
   "outputs": [
    {
     "name": "stdout",
     "output_type": "stream",
     "text": [
      "p-values\n",
      "[[[1.    0.    0.262 0.894 0.886 0.034 0.417 0.255 0.877]\n",
      "  [0.067 0.296 0.095 0.765 0.502 0.242 0.234 0.899 0.951]\n",
      "  [0.832 0.657 0.453 0.011 0.359 0.48  0.901 0.243 0.375]\n",
      "  [0.827 0.656 0.495 0.592 0.643 0.976 0.775 0.931 0.759]]\n",
      "\n",
      " [[0.067 0.    0.15  0.51  0.041 0.005 0.559 0.533 0.392]\n",
      "  [1.    0.    0.911 0.07  0.576 0.556 0.175 0.732 0.741]\n",
      "  [0.651 0.764 0.    0.231 0.495 0.43  0.423 0.944 0.238]\n",
      "  [0.153 0.171 0.088 0.989 0.965 0.859 0.915 0.43  0.671]]\n",
      "\n",
      " [[0.832 0.1   0.182 0.443 0.37  0.265 0.998 0.89  0.65 ]\n",
      "  [0.651 0.072 0.594 0.387 0.883 0.765 0.696 0.44  0.69 ]\n",
      "  [1.    0.    0.074 0.942 0.956 0.626 0.818 0.526 0.942]\n",
      "  [0.788 0.575 0.332 0.658 0.603 0.65  0.816 0.055 0.851]]\n",
      "\n",
      " [[0.827 0.03  0.021 0.597 0.635 0.2   0.392 0.081 0.85 ]\n",
      "  [0.153 0.    0.558 0.534 0.72  0.284 0.798 0.016 0.162]\n",
      "  [0.788 0.114 0.781 0.    0.975 0.098 0.265 0.161 0.642]\n",
      "  [1.    0.    0.937 0.85  0.503 0.657 0.394 0.795 0.567]]]\n",
      "MCI partial correlations\n",
      "[[[ 0.    0.57  0.04  0.   -0.    0.07  0.03 -0.04 -0.  ]\n",
      "  [-0.06 -0.03  0.05  0.01  0.02 -0.04  0.04  0.   -0.  ]\n",
      "  [ 0.01 -0.01  0.02  0.08 -0.03 -0.02 -0.   -0.04  0.03]\n",
      "  [ 0.01  0.01  0.02  0.02  0.01 -0.   -0.01 -0.   -0.01]]\n",
      "\n",
      " [[-0.06 -0.65  0.05  0.02  0.07 -0.09  0.02  0.02  0.03]\n",
      "  [ 0.    0.62  0.   -0.06 -0.02 -0.02  0.04 -0.01  0.01]\n",
      "  [ 0.01 -0.01  0.45  0.04  0.02  0.03 -0.03 -0.   -0.04]\n",
      "  [-0.05 -0.04 -0.05  0.   -0.   -0.01 -0.   -0.03  0.01]]\n",
      "\n",
      " [[ 0.01 -0.05 -0.04  0.02  0.03  0.04 -0.    0.   -0.01]\n",
      "  [ 0.01  0.06  0.02 -0.03 -0.   -0.01 -0.01 -0.02 -0.01]\n",
      "  [ 0.    0.43 -0.06  0.   -0.    0.02  0.01  0.02  0.  ]\n",
      "  [-0.01 -0.02  0.03 -0.01 -0.02 -0.01  0.01  0.06  0.01]]\n",
      "\n",
      " [[ 0.01 -0.07  0.07 -0.02  0.02  0.04 -0.03  0.06 -0.01]\n",
      "  [-0.05  0.66  0.02 -0.02 -0.01  0.03  0.01  0.08 -0.04]\n",
      "  [-0.01  0.05 -0.01  0.45 -0.   -0.05  0.04  0.04 -0.01]\n",
      "  [ 0.    0.37 -0.   -0.01 -0.02 -0.01  0.03 -0.01  0.02]]]\n"
     ]
    }
   ],
   "source": [
    "print(\"p-values\")\n",
    "print (results['p_matrix'].round(3))\n",
    "print(\"MCI partial correlations\")\n",
    "print (results['val_matrix'].round(2))"
   ]
  },
  {
   "cell_type": "code",
   "execution_count": 7,
   "metadata": {},
   "outputs": [
    {
     "name": "stdout",
     "output_type": "stream",
     "text": [
      "\n",
      "## Significant links at alpha = 0.01:\n",
      "\n",
      "    Variable $X^0$ has 2 link(s):\n",
      "        ($X^1$ -1): pval = 0.00000 | qval = 0.00000 | val = -0.653\n",
      "        ($X^0$ -1): pval = 0.00000 | qval = 0.00000 | val = 0.566\n",
      "\n",
      "    Variable $X^1$ has 2 link(s):\n",
      "        ($X^3$ -1): pval = 0.00000 | qval = 0.00000 | val = 0.663\n",
      "        ($X^1$ -1): pval = 0.00000 | qval = 0.00000 | val = 0.622\n",
      "\n",
      "    Variable $X^2$ has 3 link(s):\n",
      "        ($X^3$ -3): pval = 0.00000 | qval = 0.00000 | val = 0.451\n",
      "        ($X^1$ -2): pval = 0.00000 | qval = 0.00000 | val = 0.446\n",
      "        ($X^2$ -1): pval = 0.00000 | qval = 0.00000 | val = 0.425\n",
      "\n",
      "    Variable $X^3$ has 1 link(s):\n",
      "        ($X^3$ -1): pval = 0.00000 | qval = 0.00000 | val = 0.372\n"
     ]
    }
   ],
   "source": [
    "q_matrix = pcmci.get_corrected_pvalues(p_matrix=results['p_matrix'], fdr_method='fdr_bh')\n",
    "pcmci.print_significant_links(\n",
    "        p_matrix = results['p_matrix'], \n",
    "        q_matrix = q_matrix,\n",
    "        val_matrix = results['val_matrix'],\n",
    "        alpha_level = 0.01)"
   ]
  },
  {
   "cell_type": "code",
   "execution_count": 8,
   "metadata": {},
   "outputs": [],
   "source": [
    "link_matrix = pcmci.return_significant_parents(pq_matrix=q_matrix,\n",
    "                        val_matrix=results['val_matrix'], alpha_level=0.01)['link_matrix']\n",
    "\n"
   ]
  },
  {
   "cell_type": "code",
   "execution_count": 9,
   "metadata": {},
   "outputs": [
    {
     "data": {
      "text/plain": [
       "array([[[False,  True, False, False, False, False, False, False, False],\n",
       "        [False, False, False, False, False, False, False, False, False],\n",
       "        [False, False, False, False, False, False, False, False, False],\n",
       "        [False, False, False, False, False, False, False, False, False]],\n",
       "\n",
       "       [[False,  True, False, False, False, False, False, False, False],\n",
       "        [False,  True, False, False, False, False, False, False, False],\n",
       "        [False, False,  True, False, False, False, False, False, False],\n",
       "        [False, False, False, False, False, False, False, False, False]],\n",
       "\n",
       "       [[False, False, False, False, False, False, False, False, False],\n",
       "        [False, False, False, False, False, False, False, False, False],\n",
       "        [False,  True, False, False, False, False, False, False, False],\n",
       "        [False, False, False, False, False, False, False, False, False]],\n",
       "\n",
       "       [[False, False, False, False, False, False, False, False, False],\n",
       "        [False,  True, False, False, False, False, False, False, False],\n",
       "        [False, False, False,  True, False, False, False, False, False],\n",
       "        [False,  True, False, False, False, False, False, False, False]]])"
      ]
     },
     "execution_count": 9,
     "metadata": {},
     "output_type": "execute_result"
    }
   ],
   "source": [
    "link_matrix"
   ]
  },
  {
   "cell_type": "code",
   "execution_count": 10,
   "metadata": {},
   "outputs": [
    {
     "data": {
      "text/plain": [
       "(<Figure size 432x288 with 3 Axes>,\n",
       " <matplotlib.axes._subplots.AxesSubplot at 0x7f5aa716cb38>)"
      ]
     },
     "execution_count": 10,
     "metadata": {},
     "output_type": "execute_result"
    },
    {
     "data": {
      "image/png": "[encoded data removed]",
      "text/plain": [
       "<Figure size 432x288 with 3 Axes>"
      ]
     },
     "metadata": {
      "needs_background": "light"
     },
     "output_type": "display_data"
    }
   ],
   "source": [
    "tp.plot_graph(\n",
    "    val_matrix=results['val_matrix'],\n",
    "    link_matrix=link_matrix,\n",
    "    var_names=var_names,\n",
    "    link_colorbar_label='cross-MCI',\n",
    "    node_colorbar_label='auto-MCI',\n",
    "    )"
   ]
  },
  {
   "cell_type": "code",
   "execution_count": 11,
   "metadata": {},
   "outputs": [
    {
     "data": {
      "text/plain": [
       "(<Figure size 432x288 with 3 Axes>,\n",
       " array([<matplotlib.axes._subplots.AxesSubplot object at 0x7f5aa5567438>,\n",
       "        <matplotlib.axes._subplots.AxesSubplot object at 0x7f5aa5569518>,\n",
       "        <matplotlib.axes._subplots.AxesSubplot object at 0x7f5aa54da940>],\n",
       "       dtype=object))"
      ]
     },
     "execution_count": 11,
     "metadata": {},
     "output_type": "execute_result"
    },
    {
     "data": {
      "image/png": "[encoded data removed]",
      "text/plain": [
       "<Figure size 432x288 with 3 Axes>"
      ]
     },
     "metadata": {
      "needs_background": "light"
     },
     "output_type": "display_data"
    }
   ],
   "source": [
    "np.random.seed(1)\n",
    "data = np.random.randn(500, 3)\n",
    "for t in range(1, 500):\n",
    "    data[t, 0] += 0.4*data[t-1, 1]**2\n",
    "    data[t, 2] += 0.3*data[t-2, 1]**2\n",
    "dataframe = pp.DataFrame(data, var_names=var_names)\n",
    "tp.plot_timeseries(dataframe)\n",
    "\n"
   ]
  },
  {
   "cell_type": "code",
   "execution_count": 12,
   "metadata": {},
   "outputs": [
    {
     "name": "stdout",
     "output_type": "stream",
     "text": [
      "\n",
      "## Significant links at alpha = 0.01:\n",
      "\n",
      "    Variable $X^0$ has 0 link(s):\n",
      "\n",
      "    Variable $X^1$ has 0 link(s):\n",
      "\n",
      "    Variable $X^2$ has 1 link(s):\n",
      "        ($X^0$ -1): pval = 0.00000 | val = 0.234\n"
     ]
    }
   ],
   "source": [
    "pcmci_parcorr = PCMCI(\n",
    "    dataframe=dataframe, \n",
    "    cond_ind_test=parcorr,\n",
    "    verbosity=0)\n",
    "results = pcmci_parcorr.run_pcmci(tau_max=2, pc_alpha=0.2)\n",
    "pcmci_parcorr.print_significant_links(\n",
    "        p_matrix = results['p_matrix'], \n",
    "        val_matrix = results['val_matrix'],\n",
    "        alpha_level = 0.01)"
   ]
  },
  {
   "cell_type": "code",
   "execution_count": 13,
   "metadata": {},
   "outputs": [],
   "source": [
    "gpdc = GPDC(significance='analytic', gp_params=None)\n",
    "# gpdc.generate_and_save_nulldists(sample_sizes=range(495, 501),\n",
    "#     null_dist_filename='dc_nulldists.npz')\n",
    "gpdc.null_dist_filename ='dc_nulldists.npz'\n",
    "pcmci_gpdc = PCMCI(\n",
    "    dataframe=dataframe, \n",
    "    cond_ind_test=gpdc,\n",
    "    verbosity=0)\n",
    "\n"
   ]
  },
  {
   "cell_type": "code",
   "execution_count": 14,
   "metadata": {},
   "outputs": [
    {
     "name": "stdout",
     "output_type": "stream",
     "text": [
      "\n",
      "## Significant links at alpha = 0.01:\n",
      "\n",
      "    Variable $X^0$ has 1 link(s):\n",
      "        ($X^1$ -1): pval = 0.00000 | val = 0.030\n",
      "\n",
      "    Variable $X^1$ has 0 link(s):\n",
      "\n",
      "    Variable $X^2$ has 1 link(s):\n",
      "        ($X^1$ -2): pval = 0.00000 | val = 0.028\n"
     ]
    }
   ],
   "source": [
    "results = pcmci_gpdc.run_pcmci(tau_max=2, pc_alpha=0.1)\n",
    "pcmci_gpdc.print_significant_links(\n",
    "        p_matrix = results['p_matrix'], \n",
    "        val_matrix = results['val_matrix'],\n",
    "        alpha_level = 0.01)\n",
    "\n"
   ]
  },
  {
   "cell_type": "code",
   "execution_count": 15,
   "metadata": {},
   "outputs": [
    {
     "data": {
      "image/png": "[encoded data removed]",
      "text/plain": [
       "<Figure size 576x216 with 3 Axes>"
      ]
     },
     "metadata": {
      "needs_background": "light"
     },
     "output_type": "display_data"
    }
   ],
   "source": [
    "array, dymmy, dummy = gpdc._get_array(X=[(0, -1)], Y=[(2, 0)], Z=[(1, -2)], tau_max=2)\n",
    "x, meanx = gpdc._get_single_residuals(array, target_var=0, return_means=True)\n",
    "y, meany = gpdc._get_single_residuals(array, target_var=1, return_means=True)\n",
    "fig, axes = plt.subplots(nrows=1, ncols=3, figsize=(8,3))\n",
    "axes[0].scatter(array[2], array[0], color='grey')\n",
    "axes[0].scatter(array[2], meanx, color='black')\n",
    "axes[0].set_title(\"GP of %s on %s\" % (var_names[0], var_names[1]) )\n",
    "axes[0].set_xlabel(var_names[1]); axes[0].set_ylabel(var_names[0])\n",
    "axes[1].scatter(array[2], array[1], color='grey')\n",
    "axes[1].scatter(array[2], meany, color='black')\n",
    "axes[1].set_title(\"GP of %s on %s\" % (var_names[2], var_names[1]) )\n",
    "axes[1].set_xlabel(var_names[1]); axes[1].set_ylabel(var_names[2])\n",
    "axes[2].scatter(x, y, color='red')\n",
    "axes[2].set_title(\"DC of residuals:\" \"\\n val=%.3f / p-val=%.3f\" % (gpdc.run_test(\n",
    "            X=[(0, -1)], Y=[(2, 0)], Z=[(1, -2)], tau_max=2)) )\n",
    "axes[2].set_xlabel(\"resid. \"+var_names[0]); axes[2].set_ylabel(\"resid. \"+var_names[2])\n",
    "plt.tight_layout()\n",
    "\n"
   ]
  },
  {
   "cell_type": "code",
   "execution_count": 16,
   "metadata": {},
   "outputs": [
    {
     "data": {
      "text/plain": [
       "(<Figure size 432x288 with 3 Axes>,\n",
       " array([<matplotlib.axes._subplots.AxesSubplot object at 0x7f5aa541ac18>,\n",
       "        <matplotlib.axes._subplots.AxesSubplot object at 0x7f5aa4ed2a20>,\n",
       "        <matplotlib.axes._subplots.AxesSubplot object at 0x7f5aa4e0c048>],\n",
       "       dtype=object))"
      ]
     },
     "execution_count": 16,
     "metadata": {},
     "output_type": "execute_result"
    },
    {
     "data": {
      "image/png": "[encoded data removed]",
      "text/plain": [
       "<Figure size 432x288 with 3 Axes>"
      ]
     },
     "metadata": {
      "needs_background": "light"
     },
     "output_type": "display_data"
    }
   ],
   "source": [
    "np.random.seed(42)\n",
    "data = np.random.randn(500, 3)\n",
    "for t in range(1, 500):\n",
    "    data[t, 0] *= 0.2*data[t-1, 1]\n",
    "    data[t, 2] *= 0.3*data[t-2, 1]\n",
    "dataframe = pp.DataFrame(data, var_names=var_names)\n",
    "tp.plot_timeseries(dataframe)"
   ]
  },
  {
   "cell_type": "code",
   "execution_count": 17,
   "metadata": {},
   "outputs": [
    {
     "name": "stdout",
     "output_type": "stream",
     "text": [
      "\n",
      "## Significant links at alpha = 0.01:\n",
      "\n",
      "    Variable $X^0$ has 1 link(s):\n",
      "        ($X^1$ -1): pval = 0.00000 | val = 0.034\n",
      "\n",
      "    Variable $X^1$ has 1 link(s):\n",
      "        ($X^2$ 0): pval = 0.01000 | val = 0.017\n",
      "\n",
      "    Variable $X^2$ has 3 link(s):\n",
      "        ($X^1$ -2): pval = 0.00000 | val = 0.025\n",
      "        ($X^0$ -1): pval = 0.00400 | val = 0.018\n",
      "        ($X^1$ 0): pval = 0.01000 | val = 0.017\n"
     ]
    }
   ],
   "source": [
    "pcmci_gpdc = PCMCI(\n",
    "    dataframe=dataframe, \n",
    "    cond_ind_test=gpdc)\n",
    "results = pcmci_gpdc.run_pcmci(tau_max=2, pc_alpha=0.1)\n",
    "pcmci_gpdc.print_significant_links(\n",
    "        p_matrix = results['p_matrix'], \n",
    "        val_matrix = results['val_matrix'],\n",
    "        alpha_level = 0.01)\n",
    "\n"
   ]
  },
  {
   "cell_type": "code",
   "execution_count": 18,
   "metadata": {},
   "outputs": [
    {
     "data": {
      "image/png": "[encoded data removed]",
      "text/plain": [
       "<Figure size 576x216 with 3 Axes>"
      ]
     },
     "metadata": {
      "needs_background": "light"
     },
     "output_type": "display_data"
    }
   ],
   "source": [
    "array, dymmy, dummy = gpdc._get_array(X=[(0, -1)], Y=[(2, 0)], Z=[(1, -2)], tau_max=2)\n",
    "x, meanx = gpdc._get_single_residuals(array, target_var=0, return_means=True)\n",
    "y, meany = gpdc._get_single_residuals(array, target_var=1, return_means=True)\n",
    "\n",
    "fig, axes = plt.subplots(nrows=1, ncols=3, figsize=(8,3))\n",
    "axes[0].scatter(array[2], array[0], color='grey')\n",
    "axes[0].scatter(array[2], meanx, color='black')\n",
    "axes[0].set_title(\"GP of %s on %s\" % (var_names[0], var_names[1]) )\n",
    "axes[0].set_xlabel(var_names[1]); axes[0].set_ylabel(var_names[0])\n",
    "axes[1].scatter(array[2], array[1], color='grey')\n",
    "axes[1].scatter(array[2], meany, color='black')\n",
    "axes[1].set_title(\"GP of %s on %s\" % (var_names[2], var_names[1]) )\n",
    "axes[1].set_xlabel(var_names[1]); axes[1].set_ylabel(var_names[2])\n",
    "axes[2].scatter(x, y, color='red', alpha=0.3)\n",
    "axes[2].set_title(\"DC of residuals:\" \"\\n val=%.3f / p-val=%.3f\" % (gpdc.run_test(\n",
    "            X=[(0, -1)], Y=[(2, 0)], Z=[(1, -2)], tau_max=2)) )\n",
    "axes[2].set_xlabel(\"resid. \"+var_names[0]); axes[2].set_ylabel(\"resid. \"+var_names[2])\n",
    "plt.tight_layout()\n"
   ]
  },
  {
   "cell_type": "code",
   "execution_count": 19,
   "metadata": {},
   "outputs": [
    {
     "name": "stdout",
     "output_type": "stream",
     "text": [
      "\n",
      "##\n",
      "## Running Tigramite PC algorithm\n",
      "##\n",
      "\n",
      "Parameters:\n",
      "independence test = cmi_knn\n",
      "tau_min = 1\n",
      "tau_max = 2\n",
      "pc_alpha = 0.05\n",
      "max_conds_dim = None\n",
      "max_combinations = 1\n",
      "\n",
      "\n",
      "\n",
      "## Variable $X^0$\n",
      "\n",
      "Iterating through pc_alpha = [0.05]:\n",
      "\n",
      "# pc_alpha = 0.05 (1/1):\n",
      "\n",
      "Testing condition sets of dimension 0:\n",
      "\n",
      "    Link ($X^0$ -1) --> $X^0$ (1/6):\n",
      "    Combination 0:  --> pval = 0.61300 / val = -0.002\n",
      "    Non-significance detected.\n",
      "\n",
      "    Link ($X^0$ -2) --> $X^0$ (2/6):\n",
      "    Combination 0:  --> pval = 0.56500 / val = -0.002\n",
      "    Non-significance detected.\n",
      "\n",
      "    Link ($X^1$ -1) --> $X^0$ (3/6):\n",
      "    Combination 0:  --> pval = 0.00000 / val = 0.186\n",
      "    No conditions of dimension 0 left.\n",
      "\n",
      "    Link ($X^1$ -2) --> $X^0$ (4/6):\n",
      "    Combination 0:  --> pval = 0.64700 / val = -0.003\n",
      "    Non-significance detected.\n",
      "\n",
      "    Link ($X^2$ -1) --> $X^0$ (5/6):\n",
      "    Combination 0:  --> pval = 0.69800 / val = -0.003\n",
      "    Non-significance detected.\n",
      "\n",
      "    Link ($X^2$ -2) --> $X^0$ (6/6):\n",
      "    Combination 0:  --> pval = 0.60300 / val = -0.002\n",
      "    Non-significance detected.\n",
      "\n",
      "    Sorting parents in decreasing order with \n",
      "    weight(i-tau->j) = min_{iterations} |I_{ij}(tau)| \n",
      "\n",
      "Updating parents:\n",
      "\n",
      "    Variable $X^0$ has 1 parent(s):\n",
      "        ($X^1$ -1): max_pval = 0.00000, min_val = 0.186\n",
      "\n",
      "Algorithm converged for variable $X^0$\n",
      "\n",
      "## Variable $X^1$\n",
      "\n",
      "Iterating through pc_alpha = [0.05]:\n",
      "\n",
      "# pc_alpha = 0.05 (1/1):\n",
      "\n",
      "Testing condition sets of dimension 0:\n",
      "\n",
      "    Link ($X^0$ -1) --> $X^1$ (1/6):\n",
      "    Combination 0:  --> pval = 0.54800 / val = -0.001\n",
      "    Non-significance detected.\n",
      "\n",
      "    Link ($X^0$ -2) --> $X^1$ (2/6):\n",
      "    Combination 0:  --> pval = 0.03500 / val = 0.014\n",
      "    No conditions of dimension 0 left.\n",
      "\n",
      "    Link ($X^1$ -1) --> $X^1$ (3/6):\n",
      "    Combination 0:  --> pval = 0.79600 / val = -0.006\n",
      "    Non-significance detected.\n",
      "\n",
      "    Link ($X^1$ -2) --> $X^1$ (4/6):\n",
      "    Combination 0:  --> pval = 0.36600 / val = 0.001\n",
      "    Non-significance detected.\n",
      "\n",
      "    Link ($X^2$ -1) --> $X^1$ (5/6):\n",
      "    Combination 0:  --> pval = 0.82600 / val = -0.006\n",
      "    Non-significance detected.\n",
      "\n",
      "    Link ($X^2$ -2) --> $X^1$ (6/6):\n",
      "    Combination 0:  --> pval = 0.08400 / val = 0.008\n",
      "    Non-significance detected.\n",
      "\n",
      "    Sorting parents in decreasing order with \n",
      "    weight(i-tau->j) = min_{iterations} |I_{ij}(tau)| \n",
      "\n",
      "Updating parents:\n",
      "\n",
      "    Variable $X^1$ has 1 parent(s):\n",
      "        ($X^0$ -2): max_pval = 0.03500, min_val = 0.014\n",
      "\n",
      "Algorithm converged for variable $X^1$\n",
      "\n",
      "## Variable $X^2$\n",
      "\n",
      "Iterating through pc_alpha = [0.05]:\n",
      "\n",
      "# pc_alpha = 0.05 (1/1):\n",
      "\n",
      "Testing condition sets of dimension 0:\n",
      "\n",
      "    Link ($X^0$ -1) --> $X^2$ (1/6):\n",
      "    Combination 0:  --> pval = 0.00000 / val = 0.103\n",
      "    No conditions of dimension 0 left.\n",
      "\n",
      "    Link ($X^0$ -2) --> $X^2$ (2/6):\n",
      "    Combination 0:  --> pval = 0.32100 / val = 0.001\n",
      "    Non-significance detected.\n",
      "\n",
      "    Link ($X^1$ -1) --> $X^2$ (3/6):\n",
      "    Combination 0:  --> pval = 0.49700 / val = -0.001\n",
      "    Non-significance detected.\n",
      "\n",
      "    Link ($X^1$ -2) --> $X^2$ (4/6):\n",
      "    Combination 0:  --> pval = 0.00000 / val = 0.151\n",
      "    No conditions of dimension 0 left.\n",
      "\n",
      "    Link ($X^2$ -1) --> $X^2$ (5/6):\n",
      "    Combination 0:  --> pval = 0.05900 / val = 0.009\n",
      "    Non-significance detected.\n",
      "\n",
      "    Link ($X^2$ -2) --> $X^2$ (6/6):\n",
      "    Combination 0:  --> pval = 0.32100 / val = 0.003\n",
      "    Non-significance detected.\n",
      "\n",
      "    Sorting parents in decreasing order with \n",
      "    weight(i-tau->j) = min_{iterations} |I_{ij}(tau)| \n",
      "\n",
      "Updating parents:\n",
      "\n",
      "    Variable $X^2$ has 2 parent(s):\n",
      "        ($X^1$ -2): max_pval = 0.00000, min_val = 0.151\n",
      "        ($X^0$ -1): max_pval = 0.00000, min_val = 0.103\n",
      "\n",
      "Testing condition sets of dimension 1:\n",
      "\n",
      "    Link ($X^1$ -2) --> $X^2$ (1/2):\n",
      "    Combination 0: ($X^0$ -1)  --> pval = 0.00000 / val = 0.040\n",
      "    No conditions of dimension 1 left.\n",
      "\n",
      "    Link ($X^0$ -1) --> $X^2$ (2/2):\n",
      "    Combination 0: ($X^1$ -2)  --> pval = 0.73900 / val = -0.010\n",
      "    Non-significance detected.\n",
      "\n",
      "    Sorting parents in decreasing order with \n",
      "    weight(i-tau->j) = min_{iterations} |I_{ij}(tau)| \n",
      "\n",
      "Updating parents:\n",
      "\n",
      "    Variable $X^2$ has 1 parent(s):\n",
      "        ($X^1$ -2): max_pval = 0.00000, min_val = 0.040\n",
      "\n",
      "Algorithm converged for variable $X^2$\n",
      "\n",
      "## Resulting condition sets:\n",
      "\n",
      "    Variable $X^0$ has 1 parent(s):\n",
      "        ($X^1$ -1): max_pval = 0.00000, min_val = 0.186\n",
      "\n",
      "    Variable $X^1$ has 1 parent(s):\n",
      "        ($X^0$ -2): max_pval = 0.03500, min_val = 0.014\n",
      "\n",
      "    Variable $X^2$ has 1 parent(s):\n",
      "        ($X^1$ -2): max_pval = 0.00000, min_val = 0.040\n",
      "\n",
      "##\n",
      "## Running Tigramite MCI algorithm\n",
      "##\n",
      "\n",
      "Parameters:\n",
      "\n",
      "independence test = cmi_knn\n",
      "tau_min = 0\n",
      "tau_max = 2\n",
      "max_conds_py = None\n",
      "max_conds_px = None\n",
      "\n",
      "        link ($X^0$ -1) --> $X^0$ (1/8):\n",
      "        with conds_y = [ ($X^1$ -1) ]\n",
      "        with conds_x = [ ($X^1$ -2) ]\n",
      "        pval = 0.52000 | val = 0.002\n",
      "\n",
      "        link ($X^0$ -2) --> $X^0$ (2/8):\n",
      "        with conds_y = [ ($X^1$ -1) ]\n",
      "        with conds_x = [ ($X^1$ -3) ]\n",
      "        pval = 0.76800 | val = -0.002\n",
      "\n",
      "        link ($X^1$ 0) --> $X^0$ (3/8):\n",
      "        with conds_y = [ ($X^1$ -1) ]\n",
      "        with conds_x = [ ($X^0$ -2) ]\n",
      "        pval = 0.55000 | val = -0.001\n",
      "\n",
      "        link ($X^1$ -1) --> $X^0$ (4/8):\n",
      "        with conds_y = [ ]\n",
      "        with conds_x = [ ($X^0$ -3) ]\n",
      "        pval = 0.00000 | val = 0.108\n",
      "\n",
      "        link ($X^1$ -2) --> $X^0$ (5/8):\n",
      "        with conds_y = [ ($X^1$ -1) ]\n",
      "        with conds_x = [ ($X^0$ -4) ]\n",
      "        pval = 0.16200 | val = 0.004\n",
      "\n",
      "        link ($X^2$ 0) --> $X^0$ (6/8):\n",
      "        with conds_y = [ ($X^1$ -1) ]\n",
      "        with conds_x = [ ($X^1$ -2) ]\n",
      "        pval = 0.92300 | val = -0.003\n",
      "\n",
      "        link ($X^2$ -1) --> $X^0$ (7/8):\n",
      "        with conds_y = [ ($X^1$ -1) ]\n",
      "        with conds_x = [ ($X^1$ -3) ]\n",
      "        pval = 0.52600 | val = -0.002\n",
      "\n",
      "        link ($X^2$ -2) --> $X^0$ (8/8):\n",
      "        with conds_y = [ ($X^1$ -1) ]\n",
      "        with conds_x = [ ($X^1$ -4) ]\n",
      "        pval = 0.20800 | val = 0.000\n",
      "\n",
      "        link ($X^0$ 0) --> $X^1$ (1/8):\n",
      "        with conds_y = [ ($X^0$ -2) ]\n",
      "        with conds_x = [ ($X^1$ -1) ]\n",
      "        pval = 0.71100 | val = -0.001\n",
      "\n",
      "        link ($X^0$ -1) --> $X^1$ (2/8):\n",
      "        with conds_y = [ ($X^0$ -2) ]\n",
      "        with conds_x = [ ($X^1$ -2) ]\n",
      "        pval = 0.59800 | val = 0.001\n",
      "\n",
      "        link ($X^0$ -2) --> $X^1$ (3/8):\n",
      "        with conds_y = [ ]\n",
      "        with conds_x = [ ($X^1$ -3) ]\n",
      "        pval = 0.31900 | val = 0.002\n",
      "\n",
      "        link ($X^1$ -1) --> $X^1$ (4/8):\n",
      "        with conds_y = [ ($X^0$ -2) ]\n",
      "        with conds_x = [ ($X^0$ -3) ]\n",
      "        pval = 0.91400 | val = -0.006\n",
      "\n",
      "        link ($X^1$ -2) --> $X^1$ (5/8):\n",
      "        with conds_y = [ ($X^0$ -2) ]\n",
      "        with conds_x = [ ($X^0$ -4) ]\n",
      "        pval = 0.64300 | val = -0.001\n",
      "\n",
      "        link ($X^2$ 0) --> $X^1$ (6/8):\n",
      "        with conds_y = [ ($X^0$ -2) ]\n",
      "        with conds_x = [ ($X^1$ -2) ]\n",
      "        pval = 0.12800 | val = 0.006\n",
      "\n",
      "        link ($X^2$ -1) --> $X^1$ (7/8):\n",
      "        with conds_y = [ ($X^0$ -2) ]\n",
      "        with conds_x = [ ($X^1$ -3) ]\n",
      "        pval = 0.23600 | val = 0.003\n",
      "\n",
      "        link ($X^2$ -2) --> $X^1$ (8/8):\n",
      "        with conds_y = [ ($X^0$ -2) ]\n",
      "        with conds_x = [ ($X^1$ -4) ]\n",
      "        pval = 0.39000 | val = -0.000\n",
      "\n",
      "        link ($X^0$ 0) --> $X^2$ (1/8):\n",
      "        with conds_y = [ ($X^1$ -2) ]\n",
      "        with conds_x = [ ($X^1$ -1) ]\n",
      "        pval = 0.94400 | val = -0.003\n",
      "\n",
      "        link ($X^0$ -1) --> $X^2$ (2/8):\n",
      "        with conds_y = [ ($X^1$ -2) ]\n",
      "        with conds_x = [ ($X^1$ -2) ]\n",
      "        pval = 0.73200 | val = -0.010\n",
      "\n",
      "        link ($X^0$ -2) --> $X^2$ (3/8):\n",
      "        with conds_y = [ ($X^1$ -2) ]\n",
      "        with conds_x = [ ($X^1$ -3) ]\n",
      "        pval = 0.65800 | val = -0.001\n",
      "\n",
      "        link ($X^1$ 0) --> $X^2$ (4/8):\n",
      "        with conds_y = [ ($X^1$ -2) ]\n",
      "        with conds_x = [ ($X^0$ -2) ]\n",
      "        pval = 0.14600 | val = 0.006\n",
      "\n",
      "        link ($X^1$ -1) --> $X^2$ (5/8):\n",
      "        with conds_y = [ ($X^1$ -2) ]\n",
      "        with conds_x = [ ($X^0$ -3) ]\n",
      "        pval = 0.73500 | val = -0.005\n",
      "\n",
      "        link ($X^1$ -2) --> $X^2$ (6/8):\n",
      "        with conds_y = [ ]\n",
      "        with conds_x = [ ($X^0$ -4) ]\n",
      "        pval = 0.00000 | val = 0.080\n",
      "\n",
      "        link ($X^2$ -1) --> $X^2$ (7/8):\n",
      "        with conds_y = [ ($X^1$ -2) ]\n",
      "        with conds_x = [ ($X^1$ -3) ]\n",
      "        pval = 0.10900 | val = 0.003\n",
      "\n",
      "        link ($X^2$ -2) --> $X^2$ (8/8):\n",
      "        with conds_y = [ ($X^1$ -2) ]\n",
      "        with conds_x = [ ($X^1$ -4) ]\n",
      "        pval = 0.62800 | val = -0.001\n",
      "\n",
      "## Significant links at alpha = 0.05:\n",
      "\n",
      "    Variable $X^0$ has 1 link(s):\n",
      "        ($X^1$ -1): pval = 0.00000 | val = 0.108 | conf = (0.000, 0.000)\n",
      "\n",
      "    Variable $X^1$ has 0 link(s):\n",
      "\n",
      "    Variable $X^2$ has 1 link(s):\n",
      "        ($X^1$ -2): pval = 0.00000 | val = 0.080 | conf = (0.000, 0.000)\n",
      "\n",
      "## Significant links at alpha = 0.01:\n",
      "\n",
      "    Variable $X^0$ has 1 link(s):\n",
      "        ($X^1$ -1): pval = 0.00000 | val = 0.108\n",
      "\n",
      "    Variable $X^1$ has 0 link(s):\n",
      "\n",
      "    Variable $X^2$ has 1 link(s):\n",
      "        ($X^1$ -2): pval = 0.00000 | val = 0.080\n"
     ]
    }
   ],
   "source": [
    "cmi_knn = CMIknn(significance='shuffle_test', knn=0.1, shuffle_neighbors=5)\n",
    "pcmci_cmi_knn = PCMCI(\n",
    "    dataframe=dataframe, \n",
    "    cond_ind_test=cmi_knn,\n",
    "    verbosity=2)\n",
    "results = pcmci_cmi_knn.run_pcmci(tau_max=2, pc_alpha=0.05)\n",
    "pcmci_cmi_knn.print_significant_links(\n",
    "        p_matrix = results['p_matrix'], \n",
    "        val_matrix = results['val_matrix'],\n",
    "        alpha_level = 0.01)\n",
    "\n"
   ]
  },
  {
   "cell_type": "code",
   "execution_count": 20,
   "metadata": {},
   "outputs": [
    {
     "data": {
      "text/plain": [
       "(<Figure size 432x288 with 3 Axes>,\n",
       " <matplotlib.axes._subplots.AxesSubplot at 0x7f5aa4ae4a58>)"
      ]
     },
     "execution_count": 20,
     "metadata": {},
     "output_type": "execute_result"
    },
    {
     "data": {
      "image/png": "[encoded data removed]",
      "text/plain": [
       "<Figure size 432x288 with 3 Axes>"
      ]
     },
     "metadata": {
      "needs_background": "light"
     },
     "output_type": "display_data"
    }
   ],
   "source": [
    "link_matrix = pcmci_cmi_knn.return_significant_parents(pq_matrix=results['p_matrix'],\n",
    "                        val_matrix=results['val_matrix'], alpha_level=0.01)['link_matrix']\n",
    "tp.plot_graph(\n",
    "    val_matrix=results['val_matrix'],\n",
    "    link_matrix=link_matrix,\n",
    "    var_names=var_names,\n",
    "    link_colorbar_label='cross-MCI',\n",
    "    node_colorbar_label='auto-MCI',\n",
    "    vmin_edges=0.,\n",
    "    vmax_edges = 0.3,\n",
    "    edge_ticks=0.05,\n",
    "    cmap_edges='OrRd',\n",
    "    vmin_nodes=0,\n",
    "    vmax_nodes=.5,\n",
    "    node_ticks=.1,\n",
    "    cmap_nodes='OrRd',\n",
    "    )\n",
    "\n"
   ]
  },
  {
   "cell_type": "code",
   "execution_count": null,
   "metadata": {},
   "outputs": [],
   "source": []
  }
 ],
 "metadata": {
  "kernelspec": {
   "display_name": "MachineLearning",
   "language": "python",
   "name": "machinelearning"
  },
  "language_info": {
   "codemirror_mode": {
    "name": "ipython",
    "version": 3
   },
   "file_extension": ".py",
   "mimetype": "text/x-python",
   "name": "python",
   "nbconvert_exporter": "python",
   "pygments_lexer": "ipython3",
   "version": "3.6.8"
  }
 },
 "nbformat": 4,
 "nbformat_minor": 4
}
